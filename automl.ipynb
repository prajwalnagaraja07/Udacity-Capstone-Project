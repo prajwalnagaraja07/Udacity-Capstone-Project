{
  "cells": [
    {
      "cell_type": "markdown",
      "source": [
        "# Automated ML\n",
        "\n",
        "TODO: Import Dependencies. In the cell below, import all the dependencies that you will need to complete the project."
      ],
      "metadata": {}
    },
    {
      "cell_type": "code",
      "source": [
        "import os\n",
        "import joblib\n",
        "from azureml.core import Workspace, Experiment\n",
        "from azureml.data.dataset_factory import TabularDatasetFactory\n",
        "from azureml.core.compute import ComputeTarget, AmlCompute\n",
        "from azureml.train.automl import AutoMLConfig\n",
        "from azureml.core.compute_target import ComputeTargetException\n",
        "from azureml.contrib.pipeline.steps import ParallelRunStep, ParallelRunConfig\n",
        "\n",
        "from matplotlib import pyplot as plt\n",
        "import numpy as np\n",
        "import pandas as pd"
      ],
      "outputs": [],
      "execution_count": 1,
      "metadata": {
        "gather": {
          "logged": 1682244896468
        },
        "jupyter": {
          "outputs_hidden": false,
          "source_hidden": false
        },
        "nteract": {
          "transient": {
            "deleting": false
          }
        }
      }
    },
    {
      "cell_type": "code",
      "source": [
        "ws = Workspace.from_config()\n",
        "\n",
        "# choose a name for experiment\n",
        "experiment_name = 'CapstoneProject'\n",
        "\n",
        "experiment=Experiment(ws, experiment_name)"
      ],
      "outputs": [],
      "execution_count": 2,
      "metadata": {
        "jupyter": {
          "source_hidden": false,
          "outputs_hidden": false
        },
        "nteract": {
          "transient": {
            "deleting": false
          }
        },
        "gather": {
          "logged": 1682244901369
        }
      }
    },
    {
      "cell_type": "code",
      "source": [
        "#create compute cluster\n",
        "amlcompute_cluster_name=\"cpu-compute\"\n",
        "\n",
        "#verify that cluster does not already exist\n",
        "try:\n",
        "    aml_compute=ComputeTarget(workspace=ws, name=amlcompute_cluster_name)\n",
        "    print('Found existing cluster, use it.')\n",
        "except ComputeTargetException:\n",
        "    compute_config=AmlCompute.provisioning_configuration(vm_size=\"Standard_DS2_V2\",max_nodes=5)\n",
        "    aml_compute=ComputeTarget.create(ws,amlcompute_cluster_name,compute_config)\n",
        "\n",
        "aml_compute.wait_for_completion(show_output=True)"
      ],
      "outputs": [
        {
          "output_type": "stream",
          "name": "stdout",
          "text": "Found existing cluster, use it.\n\nRunning\n"
        }
      ],
      "execution_count": 3,
      "metadata": {
        "jupyter": {
          "source_hidden": false,
          "outputs_hidden": false
        },
        "nteract": {
          "transient": {
            "deleting": false
          }
        },
        "gather": {
          "logged": 1682244910106
        }
      }
    },
    {
      "cell_type": "markdown",
      "source": [
        "## Dataset\n",
        "\n",
        "### Overview\n",
        "TODO: In this markdown cell, give an overview of the dataset you are using. Also mention the task you will be performing.\n",
        "\n",
        "\n",
        "TODO: Get data. In the cell below, write code to access the data you will be using in this project. Remember that the dataset needs to be external."
      ],
      "metadata": {}
    },
    {
      "cell_type": "code",
      "source": [
        "# Create TabularDataset using TabularDatasetFactory\n",
        "# Data is available at: \n",
        "dataset_path=\"https://raw.githubusercontent.com/prajwalnagaraja07/Udacity-Capstone-Project/main/heart_failure_clinical_records_dataset.csv\"\n",
        "dataset=TabularDatasetFactory.from_delimited_files(path=dataset_path)\n",
        "\n",
        "#preview data\n",
        "df = dataset.to_pandas_dataframe()\n",
        "df.describe()"
      ],
      "outputs": [
        {
          "output_type": "execute_result",
          "execution_count": 4,
          "data": {
            "text/plain": "              age     anaemia  creatinine_phosphokinase    diabetes  \\\ncount  299.000000  299.000000                299.000000  299.000000   \nmean    60.833893    0.431438                581.839465    0.418060   \nstd     11.894809    0.496107                970.287881    0.494067   \nmin     40.000000    0.000000                 23.000000    0.000000   \n25%     51.000000    0.000000                116.500000    0.000000   \n50%     60.000000    0.000000                250.000000    0.000000   \n75%     70.000000    1.000000                582.000000    1.000000   \nmax     95.000000    1.000000               7861.000000    1.000000   \n\n       ejection_fraction  high_blood_pressure      platelets  \\\ncount         299.000000           299.000000     299.000000   \nmean           38.083612             0.351171  263358.029264   \nstd            11.834841             0.478136   97804.236869   \nmin            14.000000             0.000000   25100.000000   \n25%            30.000000             0.000000  212500.000000   \n50%            38.000000             0.000000  262000.000000   \n75%            45.000000             1.000000  303500.000000   \nmax            80.000000             1.000000  850000.000000   \n\n       serum_creatinine  serum_sodium         sex    smoking        time  \\\ncount         299.00000    299.000000  299.000000  299.00000  299.000000   \nmean            1.39388    136.625418    0.648829    0.32107  130.260870   \nstd             1.03451      4.412477    0.478136    0.46767   77.614208   \nmin             0.50000    113.000000    0.000000    0.00000    4.000000   \n25%             0.90000    134.000000    0.000000    0.00000   73.000000   \n50%             1.10000    137.000000    1.000000    0.00000  115.000000   \n75%             1.40000    140.000000    1.000000    1.00000  203.000000   \nmax             9.40000    148.000000    1.000000    1.00000  285.000000   \n\n       DEATH_EVENT  \ncount    299.00000  \nmean       0.32107  \nstd        0.46767  \nmin        0.00000  \n25%        0.00000  \n50%        0.00000  \n75%        1.00000  \nmax        1.00000  ",
            "text/html": "<div>\n<style scoped>\n    .dataframe tbody tr th:only-of-type {\n        vertical-align: middle;\n    }\n\n    .dataframe tbody tr th {\n        vertical-align: top;\n    }\n\n    .dataframe thead th {\n        text-align: right;\n    }\n</style>\n<table border=\"1\" class=\"dataframe\">\n  <thead>\n    <tr style=\"text-align: right;\">\n      <th></th>\n      <th>age</th>\n      <th>anaemia</th>\n      <th>creatinine_phosphokinase</th>\n      <th>diabetes</th>\n      <th>ejection_fraction</th>\n      <th>high_blood_pressure</th>\n      <th>platelets</th>\n      <th>serum_creatinine</th>\n      <th>serum_sodium</th>\n      <th>sex</th>\n      <th>smoking</th>\n      <th>time</th>\n      <th>DEATH_EVENT</th>\n    </tr>\n  </thead>\n  <tbody>\n    <tr>\n      <th>count</th>\n      <td>299.000000</td>\n      <td>299.000000</td>\n      <td>299.000000</td>\n      <td>299.000000</td>\n      <td>299.000000</td>\n      <td>299.000000</td>\n      <td>299.000000</td>\n      <td>299.00000</td>\n      <td>299.000000</td>\n      <td>299.000000</td>\n      <td>299.00000</td>\n      <td>299.000000</td>\n      <td>299.00000</td>\n    </tr>\n    <tr>\n      <th>mean</th>\n      <td>60.833893</td>\n      <td>0.431438</td>\n      <td>581.839465</td>\n      <td>0.418060</td>\n      <td>38.083612</td>\n      <td>0.351171</td>\n      <td>263358.029264</td>\n      <td>1.39388</td>\n      <td>136.625418</td>\n      <td>0.648829</td>\n      <td>0.32107</td>\n      <td>130.260870</td>\n      <td>0.32107</td>\n    </tr>\n    <tr>\n      <th>std</th>\n      <td>11.894809</td>\n      <td>0.496107</td>\n      <td>970.287881</td>\n      <td>0.494067</td>\n      <td>11.834841</td>\n      <td>0.478136</td>\n      <td>97804.236869</td>\n      <td>1.03451</td>\n      <td>4.412477</td>\n      <td>0.478136</td>\n      <td>0.46767</td>\n      <td>77.614208</td>\n      <td>0.46767</td>\n    </tr>\n    <tr>\n      <th>min</th>\n      <td>40.000000</td>\n      <td>0.000000</td>\n      <td>23.000000</td>\n      <td>0.000000</td>\n      <td>14.000000</td>\n      <td>0.000000</td>\n      <td>25100.000000</td>\n      <td>0.50000</td>\n      <td>113.000000</td>\n      <td>0.000000</td>\n      <td>0.00000</td>\n      <td>4.000000</td>\n      <td>0.00000</td>\n    </tr>\n    <tr>\n      <th>25%</th>\n      <td>51.000000</td>\n      <td>0.000000</td>\n      <td>116.500000</td>\n      <td>0.000000</td>\n      <td>30.000000</td>\n      <td>0.000000</td>\n      <td>212500.000000</td>\n      <td>0.90000</td>\n      <td>134.000000</td>\n      <td>0.000000</td>\n      <td>0.00000</td>\n      <td>73.000000</td>\n      <td>0.00000</td>\n    </tr>\n    <tr>\n      <th>50%</th>\n      <td>60.000000</td>\n      <td>0.000000</td>\n      <td>250.000000</td>\n      <td>0.000000</td>\n      <td>38.000000</td>\n      <td>0.000000</td>\n      <td>262000.000000</td>\n      <td>1.10000</td>\n      <td>137.000000</td>\n      <td>1.000000</td>\n      <td>0.00000</td>\n      <td>115.000000</td>\n      <td>0.00000</td>\n    </tr>\n    <tr>\n      <th>75%</th>\n      <td>70.000000</td>\n      <td>1.000000</td>\n      <td>582.000000</td>\n      <td>1.000000</td>\n      <td>45.000000</td>\n      <td>1.000000</td>\n      <td>303500.000000</td>\n      <td>1.40000</td>\n      <td>140.000000</td>\n      <td>1.000000</td>\n      <td>1.00000</td>\n      <td>203.000000</td>\n      <td>1.00000</td>\n    </tr>\n    <tr>\n      <th>max</th>\n      <td>95.000000</td>\n      <td>1.000000</td>\n      <td>7861.000000</td>\n      <td>1.000000</td>\n      <td>80.000000</td>\n      <td>1.000000</td>\n      <td>850000.000000</td>\n      <td>9.40000</td>\n      <td>148.000000</td>\n      <td>1.000000</td>\n      <td>1.00000</td>\n      <td>285.000000</td>\n      <td>1.00000</td>\n    </tr>\n  </tbody>\n</table>\n</div>"
          },
          "metadata": {}
        }
      ],
      "execution_count": 4,
      "metadata": {
        "gather": {
          "logged": 1682244914689
        },
        "jupyter": {
          "outputs_hidden": false,
          "source_hidden": false
        },
        "nteract": {
          "transient": {
            "deleting": false
          }
        }
      }
    },
    {
      "cell_type": "code",
      "source": [
        "from azureml.core.dataset import Dataset\n",
        "from sklearn.model_selection import train_test_split\n",
        "\n",
        "key = 'heart_failure_clinical_records_dataset'\n",
        "if key in ws.datasets.keys():\n",
        "    dataset = ws.datasets[key]\n",
        "    print(\"The dataset was found!\")\n",
        "\n",
        "else:\n",
        "    url = dataset_path\n",
        "    dataset = Dataset.Tabular.from_delimited_files(url)\n",
        "    dataset = dataset.register(ws,key)\n",
        "\n",
        "data = dataset.to_pandas_dataframe()\n",
        "train, test = train_test_split(data, shuffle=True)\n",
        "train.to_csv('train.csv', index = False)\n",
        "\n",
        "datastore = ws.get_default_datastore()\n",
        "datastore.upload_files(files = ['./train.csv'])\n",
        "\n",
        "train = Dataset.Tabular.from_delimited_files([(datastore, 'train.csv')])"
      ],
      "outputs": [
        {
          "output_type": "stream",
          "name": "stdout",
          "text": "The dataset was found!\nUploading an estimated of 1 files\nTarget already exists. Skipping upload for train.csv\nUploaded 0 files\n"
        },
        {
          "output_type": "stream",
          "name": "stderr",
          "text": "\"datastore.upload_files\" is deprecated after version 1.0.69. Please use \"FileDatasetFactory.upload_directory\" instead. See Dataset API change notice at https://aka.ms/dataset-deprecation.\n"
        }
      ],
      "execution_count": 5,
      "metadata": {
        "jupyter": {
          "source_hidden": false,
          "outputs_hidden": false
        },
        "nteract": {
          "transient": {
            "deleting": false
          }
        },
        "gather": {
          "logged": 1682244930509
        }
      }
    },
    {
      "cell_type": "markdown",
      "source": [
        "## AutoML Configuration\n",
        "\n",
        "TODO: Explain why you chose the automl settings and cofiguration you used below."
      ],
      "metadata": {}
    },
    {
      "cell_type": "code",
      "source": [
        "from azureml.train.automl import AutoMLConfig\n",
        "import logging\n",
        "import time\n",
        "\n",
        "\n",
        "automl_settings = {\n",
        "    \"n_cross_validations\":4,\n",
        "    \"primary_metric\":'accuracy',\n",
        "    \"enable_early_stopping\":True,\n",
        "    \"experiment_timeout_minutes\":45,\n",
        "    \"max_concurrent_iterations\":5,\n",
        "   }\n",
        "\n",
        "\n",
        "automl_config = AutoMLConfig(\n",
        "    task='classification',\n",
        "    compute_target='cpu-compute',\n",
        "    training_data=train,\n",
        "    label_column_name='DEATH_EVENT',\n",
        "    featurization = 'auto',\n",
        "    debug_log = \"automl_errors.log\",\n",
        "    **automl_settings\n",
        "    )"
      ],
      "outputs": [],
      "execution_count": 6,
      "metadata": {
        "gather": {
          "logged": 1682244941383
        },
        "jupyter": {
          "outputs_hidden": false,
          "source_hidden": false
        },
        "nteract": {
          "transient": {
            "deleting": false
          }
        }
      }
    },
    {
      "cell_type": "code",
      "source": [
        "from azureml.core.experiment import Experiment\n",
        "\n",
        "experiment_name = 'automl_capstone_run'\n",
        "experiment_=Experiment(ws, experiment_name)\n",
        "\n",
        "\n",
        "remote_run = experiment.submit(automl_config, show_output=True)"
      ],
      "outputs": [
        {
          "output_type": "stream",
          "name": "stdout",
          "text": "Submitting remote run.\nNo run_configuration provided, running on cpu-compute with default configuration\nRunning on remote compute: cpu-compute\n"
        },
        {
          "output_type": "display_data",
          "data": {
            "text/plain": "<IPython.core.display.HTML object>",
            "text/html": "<table style=\"width:100%\"><tr><th>Experiment</th><th>Id</th><th>Type</th><th>Status</th><th>Details Page</th><th>Docs Page</th></tr><tr><td>CapstoneProject</td><td>AutoML_032758d2-dde3-41ac-a05f-7a797dadf0d6</td><td>automl</td><td>NotStarted</td><td><a href=\"https://ml.azure.com/runs/AutoML_032758d2-dde3-41ac-a05f-7a797dadf0d6?wsid=/subscriptions/779ddc6a-162c-43db-9f05-edaaa1cde3ba/resourcegroups/rg-preview-features/workspaces/feature-test&amp;tid=ce849bab-cc1c-465b-b62e-18f07c9ac198\" target=\"_blank\" rel=\"noopener\">Link to Azure Machine Learning studio</a></td><td><a href=\"https://docs.microsoft.com/en-us/python/api/overview/azure/ml/intro?view=azure-ml-py\" target=\"_blank\" rel=\"noopener\">Link to Documentation</a></td></tr></table>"
          },
          "metadata": {}
        },
        {
          "output_type": "stream",
          "name": "stdout",
          "text": "\nCurrent status: FeaturesGeneration. Generating features for the dataset.\nCurrent status: DatasetCrossValidationSplit. Generating individually featurized CV splits.\nCurrent status: ModelSelection. Beginning model selection.\n\n********************************************************************************************\nDATA GUARDRAILS: \n\nTYPE:         Class balancing detection\nSTATUS:       PASSED\nDESCRIPTION:  Your inputs were analyzed, and all classes are balanced in your training data.\n              Learn more about imbalanced data: https://aka.ms/AutomatedMLImbalancedData\n\n********************************************************************************************\n\nTYPE:         Missing feature values imputation\nSTATUS:       PASSED\nDESCRIPTION:  No feature missing values were detected in the training data.\n              Learn more about missing value imputation: https://aka.ms/AutomatedMLFeaturization\n\n********************************************************************************************\n\nTYPE:         High cardinality feature detection\nSTATUS:       PASSED\nDESCRIPTION:  Your inputs were analyzed, and no high cardinality features were detected.\n              Learn more about high cardinality feature handling: https://aka.ms/AutomatedMLFeaturization\n\n********************************************************************************************\n\n********************************************************************************************\nITER: The iteration being evaluated.\nPIPELINE: A summary description of the pipeline being evaluated.\nDURATION: Time taken for the current iteration.\nMETRIC: The result of computing score on the fitted pipeline.\nBEST: The best observed score thus far.\n********************************************************************************************\n\n ITER   PIPELINE                                       DURATION            METRIC      BEST\n    0   MaxAbsScaler LightGBM                          0:00:16             0.8438    0.8438\n    4   StandardScalerWrapper KNN                      0:00:15             0.6027    0.8438\n    1   MaxAbsScaler XGBoostClassifier                 0:00:14             0.8393    0.8438\n    5   MaxAbsScaler LightGBM                          0:00:13             0.8438    0.8438\n    2   MaxAbsScaler ExtremeRandomTrees                0:00:15             0.8080    0.8438\n    6   RobustScaler LogisticRegression                0:00:14             0.7946    0.8438\n    8   StandardScalerWrapper KNN                      0:00:13             0.5759    0.8438\n   10   StandardScalerWrapper XGBoostClassifier        0:00:15             0.8080    0.8438\n    3   SparseNormalizer XGBoostClassifier             0:00:17             0.8170    0.8438\n    7   MaxAbsScaler LightGBM                          0:00:17             0.8259    0.8438\n    9   StandardScalerWrapper SVM                      0:00:13             0.7321    0.8438\n   11   MinMaxScaler RandomForest                      0:00:17             0.8348    0.8438\n   12   StandardScalerWrapper LogisticRegression       0:00:14             0.7232    0.8438\n   13   StandardScalerWrapper KNN                      0:00:13             0.6964    0.8438\n   14   RobustScaler KNN                               0:00:14             0.6830    0.8438\n   15   MinMaxScaler KNN                               0:00:15             0.6830    0.8438\n   16   SparseNormalizer KNN                           0:00:09             0.7679    0.8438\n   17   MaxAbsScaler LogisticRegression                0:00:09             0.8080    0.8438\n   18   StandardScalerWrapper XGBoostClassifier        0:00:09             0.8304    0.8438\n   19   StandardScalerWrapper XGBoostClassifier        0:00:09             0.8304    0.8438\n   20   MaxAbsScaler LogisticRegression                0:01:27             0.8259    0.8438\n   21   StandardScalerWrapper XGBoostClassifier        0:01:27             0.8304    0.8438\n   22   SparseNormalizer RandomForest                  0:02:00             0.8527    0.8527\n   23   StandardScalerWrapper RandomForest             0:02:00             0.8259    0.8527\n   24   StandardScalerWrapper LightGBM                 0:02:00             0.8348    0.8527\n   26   MinMaxScaler LightGBM                          0:02:00             0.8304    0.8527\n   27   SparseNormalizer XGBoostClassifier             0:02:00             0.8571    0.8571\n   28   RobustScaler RandomForest                      0:02:00             0.8482    0.8571\n   29   StandardScalerWrapper RandomForest             0:01:24             0.8393    0.8571\n   30   SparseNormalizer XGBoostClassifier             0:01:24             0.8393    0.8571\n   31   SparseNormalizer XGBoostClassifier             0:02:00             0.8438    0.8571\n   32   RobustScaler LightGBM                          0:02:00             0.8438    0.8571\n   25   SparseNormalizer XGBoostClassifier             0:00:25             0.8571    0.8571\n   33   SparseNormalizer XGBoostClassifier             0:02:00             0.8259    0.8571\n   34   MinMaxScaler LightGBM                          0:02:00             0.8438    0.8571\n   35   PCA XGBoostClassifier                          0:02:00             0.6696    0.8571\n   36   StandardScalerWrapper XGBoostClassifier        0:02:00             0.8348    0.8571\n   37   StandardScalerWrapper XGBoostClassifier        0:02:00             0.8482    0.8571\n   38   StandardScalerWrapper XGBoostClassifier        0:02:00             0.8348    0.8571\n   39   StandardScalerWrapper LightGBM                 0:02:00             0.8438    0.8571\n   40   SparseNormalizer XGBoostClassifier             0:02:00             0.8527    0.8571\n   41   MinMaxScaler RandomForest                      0:02:00             0.8348    0.8571\n   42   StandardScalerWrapper ExtremeRandomTrees       0:01:37             0.8125    0.8571\n   43   StandardScalerWrapper XGBoostClassifier        0:02:01             0.8393    0.8571\n   44   StandardScalerWrapper RandomForest             0:02:00             0.8304    0.8571\n   45   PCA XGBoostClassifier                          0:02:00             0.6339    0.8571\n   46   MaxAbsScaler RandomForest                      0:02:00             0.8527    0.8571\n   47   MinMaxScaler LightGBM                          0:00:31             0.8304    0.8571\n   50                                                  0:00:01                nan    0.8571\n   48                                                  0:01:03                nan    0.8571\n   49                                                  0:01:03                nan    0.8571\n   51    VotingEnsemble                                0:02:00             0.8661    0.8661\n   52    StackEnsemble                                 0:02:00             0.8438    0.8661\n"
        }
      ],
      "execution_count": 7,
      "metadata": {
        "gather": {
          "logged": 1682247386067
        },
        "jupyter": {
          "outputs_hidden": false,
          "source_hidden": false
        },
        "nteract": {
          "transient": {
            "deleting": false
          }
        }
      }
    },
    {
      "cell_type": "markdown",
      "source": [
        "## Run Details\n",
        "\n",
        "OPTIONAL: Write about the different models trained and their performance. Why do you think some models did better than others?\n",
        "\n",
        "TODO: In the cell below, use the `RunDetails` widget to show the different experiments."
      ],
      "metadata": {}
    },
    {
      "cell_type": "code",
      "source": [
        "from azureml.widgets import RunDetails\n",
        "RunDetails(remote_run).show()\n",
        "remote_run.wait_for_completion(show_output=True)"
      ],
      "outputs": [
        {
          "output_type": "display_data",
          "data": {
            "text/plain": "_AutoMLWidget(widget_settings={'childWidgetDisplay': 'popup', 'send_telemetry': False, 'log_level': 'INFO', 's…",
            "application/vnd.jupyter.widget-view+json": {
              "version_major": 2,
              "version_minor": 0,
              "model_id": "b411fe656018422ea9a2c0cfad49566e"
            }
          },
          "metadata": {}
        },
        {
          "output_type": "display_data",
          "data": {
            "application/aml.mini.widget.v1": "{\"status\": \"Completed\", \"workbench_run_details_uri\": \"https://ml.azure.com/runs/AutoML_032758d2-dde3-41ac-a05f-7a797dadf0d6?wsid=/subscriptions/779ddc6a-162c-43db-9f05-edaaa1cde3ba/resourcegroups/rg-preview-features/workspaces/feature-test&tid=ce849bab-cc1c-465b-b62e-18f07c9ac198\", \"run_id\": \"AutoML_032758d2-dde3-41ac-a05f-7a797dadf0d6\", \"run_properties\": {\"run_id\": \"AutoML_032758d2-dde3-41ac-a05f-7a797dadf0d6\", \"created_utc\": \"2023-04-23T10:31:50.593292Z\", \"properties\": {\"num_iterations\": \"1000\", \"training_type\": \"TrainFull\", \"acquisition_function\": \"EI\", \"primary_metric\": \"accuracy\", \"train_split\": \"0\", \"acquisition_parameter\": \"0\", \"num_cross_validation\": \"4\", \"target\": \"cpu-compute\", \"AMLSettingsJsonString\": \"{\\\"path\\\":null,\\\"name\\\":\\\"CapstoneProject\\\",\\\"subscription_id\\\":\\\"779ddc6a-162c-43db-9f05-edaaa1cde3ba\\\",\\\"resource_group\\\":\\\"rg-preview-features\\\",\\\"workspace_name\\\":\\\"feature-test\\\",\\\"region\\\":\\\"germanywestcentral\\\",\\\"compute_target\\\":\\\"cpu-compute\\\",\\\"spark_service\\\":null,\\\"azure_service\\\":\\\"remote\\\",\\\"many_models\\\":false,\\\"pipeline_fetch_max_batch_size\\\":1,\\\"enable_batch_run\\\":true,\\\"enable_parallel_run\\\":false,\\\"num_procs\\\":null,\\\"enable_run_restructure\\\":false,\\\"start_auxiliary_runs_before_parent_complete\\\":false,\\\"enable_code_generation\\\":true,\\\"iterations\\\":1000,\\\"primary_metric\\\":\\\"accuracy\\\",\\\"task_type\\\":\\\"classification\\\",\\\"positive_label\\\":null,\\\"data_script\\\":null,\\\"test_size\\\":0.0,\\\"test_include_predictions_only\\\":false,\\\"validation_size\\\":0.0,\\\"n_cross_validations\\\":4,\\\"y_min\\\":null,\\\"y_max\\\":null,\\\"num_classes\\\":null,\\\"featurization\\\":\\\"auto\\\",\\\"_ignore_package_version_incompatibilities\\\":false,\\\"is_timeseries\\\":false,\\\"max_cores_per_iteration\\\":1,\\\"max_concurrent_iterations\\\":5,\\\"iteration_timeout_minutes\\\":null,\\\"mem_in_mb\\\":null,\\\"enforce_time_on_windows\\\":false,\\\"experiment_timeout_minutes\\\":45,\\\"experiment_exit_score\\\":null,\\\"partition_column_names\\\":null,\\\"whitelist_models\\\":null,\\\"blacklist_algos\\\":[\\\"TensorFlowLinearClassifier\\\",\\\"TensorFlowDNN\\\"],\\\"supported_models\\\":[\\\"LinearSVM\\\",\\\"TensorFlowLinearClassifier\\\",\\\"SGD\\\",\\\"MultinomialNaiveBayes\\\",\\\"KNN\\\",\\\"DecisionTree\\\",\\\"LogisticRegression\\\",\\\"XGBoostClassifier\\\",\\\"RandomForest\\\",\\\"GradientBoosting\\\",\\\"LightGBM\\\",\\\"ExtremeRandomTrees\\\",\\\"SVM\\\",\\\"BernoulliNaiveBayes\\\",\\\"AveragedPerceptronClassifier\\\",\\\"TabnetClassifier\\\",\\\"TensorFlowDNN\\\"],\\\"private_models\\\":[],\\\"auto_blacklist\\\":true,\\\"blacklist_samples_reached\\\":false,\\\"exclude_nan_labels\\\":true,\\\"verbosity\\\":20,\\\"_debug_log\\\":\\\"azureml_automl.log\\\",\\\"show_warnings\\\":false,\\\"model_explainability\\\":true,\\\"service_url\\\":null,\\\"sdk_url\\\":null,\\\"sdk_packages\\\":null,\\\"enable_onnx_compatible_models\\\":false,\\\"enable_split_onnx_featurizer_estimator_models\\\":false,\\\"vm_type\\\":\\\"STANDARD_E4DS_V4\\\",\\\"telemetry_verbosity\\\":20,\\\"send_telemetry\\\":true,\\\"enable_dnn\\\":false,\\\"scenario\\\":\\\"AutoML\\\",\\\"environment_label\\\":null,\\\"save_mlflow\\\":false,\\\"enable_categorical_indicators\\\":false,\\\"force_text_dnn\\\":false,\\\"enable_feature_sweeping\\\":true,\\\"enable_early_stopping\\\":true,\\\"early_stopping_n_iters\\\":10,\\\"arguments\\\":null,\\\"dataset_id\\\":\\\"fc37b172-c0b9-4ba3-b6d8-99ffb82e8df2\\\",\\\"hyperdrive_config\\\":null,\\\"validation_dataset_id\\\":null,\\\"run_source\\\":null,\\\"metrics\\\":null,\\\"enable_metric_confidence\\\":false,\\\"enable_ensembling\\\":true,\\\"enable_stack_ensembling\\\":true,\\\"ensemble_iterations\\\":15,\\\"enable_tf\\\":false,\\\"enable_subsampling\\\":null,\\\"subsample_seed\\\":null,\\\"enable_nimbusml\\\":false,\\\"enable_streaming\\\":false,\\\"force_streaming\\\":false,\\\"track_child_runs\\\":true,\\\"n_best_runs\\\":1,\\\"allowed_private_models\\\":[],\\\"label_column_name\\\":\\\"DEATH_EVENT\\\",\\\"weight_column_name\\\":null,\\\"cv_split_column_names\\\":null,\\\"enable_local_managed\\\":false,\\\"_local_managed_run_id\\\":null,\\\"cost_mode\\\":1,\\\"lag_length\\\":0,\\\"metric_operation\\\":\\\"maximize\\\",\\\"preprocess\\\":true}\", \"DataPrepJsonString\": \"{\\\\\\\"training_data\\\\\\\": {\\\\\\\"datasetId\\\\\\\": \\\\\\\"fc37b172-c0b9-4ba3-b6d8-99ffb82e8df2\\\\\\\"}, \\\\\\\"datasets\\\\\\\": 0}\", \"EnableSubsampling\": null, \"runTemplate\": \"AutoML\", \"azureml.runsource\": \"automl\", \"display_task_type\": \"classification\", \"dependencies_versions\": \"{\\\"azureml-widgets\\\": \\\"1.48.0\\\", \\\"azureml-training-tabular\\\": \\\"1.48.0\\\", \\\"azureml-train\\\": \\\"1.48.0\\\", \\\"azureml-train-restclients-hyperdrive\\\": \\\"1.48.0\\\", \\\"azureml-train-core\\\": \\\"1.48.0\\\", \\\"azureml-train-automl\\\": \\\"1.48.0\\\", \\\"azureml-train-automl-runtime\\\": \\\"1.48.0\\\", \\\"azureml-train-automl-client\\\": \\\"1.48.0\\\", \\\"azureml-tensorboard\\\": \\\"1.48.0\\\", \\\"azureml-telemetry\\\": \\\"1.48.0\\\", \\\"azureml-sdk\\\": \\\"1.48.0\\\", \\\"azureml-samples\\\": \\\"0+unknown\\\", \\\"azureml-responsibleai\\\": \\\"1.48.0\\\", \\\"azureml-pipeline\\\": \\\"1.48.0\\\", \\\"azureml-pipeline-steps\\\": \\\"1.48.0\\\", \\\"azureml-pipeline-core\\\": \\\"1.48.0\\\", \\\"azureml-opendatasets\\\": \\\"1.48.0\\\", \\\"azureml-mlflow\\\": \\\"1.48.0\\\", \\\"azureml-interpret\\\": \\\"1.48.0\\\", \\\"azureml-inference-server-http\\\": \\\"0.7.7\\\", \\\"azureml-explain-model\\\": \\\"1.48.0\\\", \\\"azureml-defaults\\\": \\\"1.48.0\\\", \\\"azureml-dataset-runtime\\\": \\\"1.48.0\\\", \\\"azureml-dataprep\\\": \\\"4.8.3\\\", \\\"azureml-dataprep-rslex\\\": \\\"2.15.1\\\", \\\"azureml-dataprep-native\\\": \\\"38.0.0\\\", \\\"azureml-datadrift\\\": \\\"1.48.0\\\", \\\"azureml-core\\\": \\\"1.48.0\\\", \\\"azureml-contrib-services\\\": \\\"1.48.0\\\", \\\"azureml-contrib-server\\\": \\\"1.48.0\\\", \\\"azureml-contrib-reinforcementlearning\\\": \\\"1.48.0\\\", \\\"azureml-contrib-pipeline-steps\\\": \\\"1.48.0\\\", \\\"azureml-contrib-notebook\\\": \\\"1.48.0\\\", \\\"azureml-contrib-fairness\\\": \\\"1.48.0\\\", \\\"azureml-contrib-dataset\\\": \\\"1.48.0\\\", \\\"azureml-contrib-automl-pipeline-steps\\\": \\\"1.48.0\\\", \\\"azureml-cli-common\\\": \\\"1.48.0\\\", \\\"azureml-automl-runtime\\\": \\\"1.48.0.post1\\\", \\\"azureml-automl-dnn-nlp\\\": \\\"1.48.0\\\", \\\"azureml-automl-core\\\": \\\"1.48.0\\\", \\\"azureml-accel-models\\\": \\\"1.48.0\\\"}\", \"_aml_system_scenario_identification\": \"Remote.Parent\", \"ClientType\": \"SDK\", \"PlatformVersion\": \"DPV1\", \"environment_cpu_name\": \"AzureML-AutoML\", \"environment_cpu_label\": \"nimbus-deprecation\", \"environment_gpu_name\": \"AzureML-AutoML-GPU\", \"environment_gpu_label\": \"prod\", \"root_attribution\": \"automl\", \"attribution\": \"AutoML\", \"Orchestrator\": \"AutoML\", \"CancelUri\": \"https://germanywestcentral.api.azureml.ms/jasmine/v1.0/subscriptions/779ddc6a-162c-43db-9f05-edaaa1cde3ba/resourceGroups/rg-preview-features/providers/Microsoft.MachineLearningServices/workspaces/feature-test/experimentids/d467e227-930b-494b-b154-8b59d0c1e8ea/cancel/AutoML_032758d2-dde3-41ac-a05f-7a797dadf0d6\", \"ClientSdkVersion\": \"1.48.0.post2\", \"snapshotId\": \"00000000-0000-0000-0000-000000000000\", \"SetupRunId\": \"AutoML_032758d2-dde3-41ac-a05f-7a797dadf0d6_setup\", \"SetupRunContainerId\": \"dcid.AutoML_032758d2-dde3-41ac-a05f-7a797dadf0d6_setup\", \"FeaturizationRunJsonPath\": \"featurizer_container.json\", \"FeaturizationRunId\": \"AutoML_032758d2-dde3-41ac-a05f-7a797dadf0d6_featurize\", \"ProblemInfoJsonString\": \"{\\\"dataset_num_categorical\\\": 0, \\\"is_sparse\\\": false, \\\"subsampling\\\": false, \\\"has_extra_col\\\": true, \\\"dataset_classes\\\": 2, \\\"dataset_features\\\": 12, \\\"dataset_samples\\\": 224, \\\"single_frequency_class_detected\\\": false}\", \"ModelExplainRunId\": \"AutoML_032758d2-dde3-41ac-a05f-7a797dadf0d6_ModelExplain\"}, \"tags\": {\"model_explain_run\": \"best_run\", \"_aml_system_automl_run_workspace_id\": \"b83f7342-22dd-41c0-9a4c-6fe3c2bcc0d6\", \"_aml_system_azureml.automlComponent\": \"AutoML\", \"pipeline_id_000\": \"5dfac790c5c209f98a1da2dc1c7fb76f0397324f;628c2351f7c75d74ad3673f2d39af16d6976da2e;5f21d4801ee2a6073890b89985177d37ef49c646;22bffc6cdfb453aa19b0792ec8a8b592bd44dc5b;c7af0367625be6ac5c2fecbfc72ed444cb7a2111;3735210984ea10097d5c91905cf6300ac278cd89;081b692de9e87424d86c2c1d0787b65e098fc386;bc4e14e9481990f09b66c70640f3b1c528f584ac;2964988f7520e6167bfe42ba2c42ab4a75f8a68c;799d2168db11fc19b9e1c6c1df62f8981ad39fe9;294650ec23bc3d067a4972de7ceb12f6e97260fa;ce96746d6f86360fe360023f5ae43340d1986145;5304e705d6f401cb07f85bcf0ca59ac1f84dfcf5;44b5d2d23120dfcf96a7dc6389a293d17a966b1b;7b422e7b3f86902c2409d5b5d9ff0c84d5dacfee;08e13545f5f7e2df5ef6a66d4110cfd996b1a0e3;ca211529127bb19e1fc933b24b457a03beb5e48e;3caa818370e5e0c328d6266c359019bd31681270;589334a57221e0720a95cf217c065115a7b841d1;35b8e2db3c5f6e714072e1be9f0210fe48426975;da45f657e4591caadf1589a85a1f7b8932585595;3fd2e115482e0c7b92aa3297688aefb6c3aa6fb8;1dfdf370ba770047b14bfa59c40920815defcdab;17f87d449bb43aaf3cdae4b7eb6dd6e7fbdaf343;3d9e37d91189f9df1d9c0f2e0cfed345c3a54197;0a75ac346f04575e8964ffc4fa14a79f565cd944;664e966ce723fe972f3a23a912154a68b05d3f1e;6f39e692723da42e43aa2e593332cb5d3568a3f2;096de478ef390f8448874755ed8c59aa836d42b7;af01ffa64fde1ea680927b1796fcd6755276db74;4113ccf9741a250c600778a78f8b790b390962c7;f0ea9ff175d03a19ae03ebe2246a695c85b44396;cbbef77cccbd4de8c0d832bcf23c4b1c3448cfe8;9b3f726aa74d9a0c491a87a4001805ce7118282d;c26699f587a2a54802e339ded1fbee25c528228a;fc65c103728d8cdf7886ddc1dd6f38cbf64b0708;f67cd3269a1e5f4666b6d6b923f11d0ca4cb62da;830599f160d8869686b02fea46a4fe688131a294;5e873b346cd386a8721b3f1e5e5a5aca5c5def66;ae8d4d93457030205355568897f7825fea60992d;1738fe89ab42c2ee87cf4a21e4d695c249f42c97;7a175c9b0d6841055004b935356daa8156096425;6f015fc1fcb1d4b79ae53e4ab86c5b3099182e47;4ac8f7dce88f885cf5dd6909306d41bba52ec186;ffe2dee36b1a25bbc4b512b7611e4d0a9127d962;cb19524ecaba29fa13fe066e74a0b5c0620fc12b;487317e5b7051cca9a3f4722bcaeb5569a29e8a4;46b97a90dfa87010249033d5422c9e61c6f034e5\", \"score_000\": \"0.84375;0.6026785714285714;0.5758928571428572;0.7232142857142857;0.8392857142857143;0.84375;0.7321428571428571;0.6964285714285714;0.7946428571428572;0.8080357142857143;0.8080357142857142;0.6830357142857143;0.8258928571428572;0.8169642857142858;0.6830357142857143;0.8348214285714286;0.7678571428571429;0.8080357142857142;0.8303571428571428;0.8303571428571429;0.8258928571428571;0.8303571428571429;0.8526785714285714;0.8258928571428571;0.8303571428571429;0.8348214285714286;0.8571428571428571;0.8482142857142857;0.8392857142857143;0.8392857142857143;0.84375;0.84375;0.8571428571428572;0.8258928571428571;0.84375;0.6696428571428571;0.8348214285714286;0.8482142857142857;0.8348214285714286;0.84375;0.8526785714285714;0.8348214285714285;0.8125;0.8392857142857143;0.8303571428571428;0.6339285714285714;0.8526785714285714;NaN;0.8303571428571429;NaN;NaN;0.8660714285714286;0.84375\", \"predicted_cost_000\": \"0;0.5;0.5;0.5;0;0.5;0.5;0.5;0.5;0.5;0.5;0.5;0.5;0.5;0.5;0.5;0.5;0.5;0.5;0.5;0.09765948390225332;0.02766666545082143;0.23697008635406588;0.0546293299026644;0.00947459760937899;0.011046121820398417;0.36220492127057957;0.16572892143891163;0.060064018157597605;0.1925324939681568;0.05057122832586992;0.11260112839308904;0.14692088681158513;0.008017434448495194;0.2077200619300973;0.03593507379988023;0.07113230029856805;0.017726475757919406;0.04874813880293106;0.08019640263679848;0.042926074711633073;0.3861737186605705;0.288714750501555;0.1370243718802594;0.12625776435691818;0.046276435855487574;0.125859517177059;0.39250268769677565;0.165428044134886;0.1254041613999646;0.029308781237856536;0;0\", \"fit_time_000\": \"0.0860175;0.0082025;0.0042575;0.09162325;0.08081625;0.02572625;0.015290500000000002;0.007726250000000001;0.0163745;0.302572;0.0159475;0.015432249999999998;0.039094;0.041044500000000005;0.0319575;0.90914325;0.0027712500000000003;0.018385;0.0079615;0.007734;0.0446485;0.0133695;0.4474705;0.1292605;0.013267499999999998;0.02347375;0.04132325;0.370281;0.129023;0.08218975;0.4094625;0.037297;0.03493425;0.05466425;0.16044975;0.0566985;0.061073749999999996;0.02365375;0.03250525;0.13617525;0.3685485;0.64781;0.63331225;0.16645549999999998;0.1381735;0.0390465;0.1622035;NaN;0.01510975;NaN;NaN;27;29\", \"training_percent_000\": \"100;100;100;100;100;100;100;100;100;100;100;100;100;100;100;100;100;100;100;100;100;100;100;100;100;100;100;100;100;100;100;100;100;100;100;100;100;100;100;100;100;100;100;100;100;100;100;100;100;100;100;100;100\", \"iteration_000\": \"0;4;8;12;1;5;9;13;6;2;10;14;7;3;15;11;16;17;18;19;20;21;22;23;26;24;27;28;29;30;31;32;25;33;34;35;36;37;38;39;40;41;42;43;44;45;46;50;47;49;48;51;52\", \"run_preprocessor_000\": \"MaxAbsScaler;StandardScalerWrapper;StandardScalerWrapper;StandardScalerWrapper;MaxAbsScaler;MaxAbsScaler;StandardScalerWrapper;StandardScalerWrapper;RobustScaler;MaxAbsScaler;StandardScalerWrapper;RobustScaler;MaxAbsScaler;SparseNormalizer;MinMaxScaler;MinMaxScaler;SparseNormalizer;MaxAbsScaler;StandardScalerWrapper;StandardScalerWrapper;MaxAbsScaler;StandardScalerWrapper;SparseNormalizer;StandardScalerWrapper;MinMaxScaler;StandardScalerWrapper;SparseNormalizer;RobustScaler;StandardScalerWrapper;SparseNormalizer;SparseNormalizer;RobustScaler;SparseNormalizer;SparseNormalizer;MinMaxScaler;PCA;StandardScalerWrapper;StandardScalerWrapper;StandardScalerWrapper;StandardScalerWrapper;SparseNormalizer;MinMaxScaler;StandardScalerWrapper;StandardScalerWrapper;StandardScalerWrapper;PCA;MaxAbsScaler;;MinMaxScaler;;;;\", \"run_algorithm_000\": \"LightGBM;KNN;KNN;LogisticRegression;XGBoostClassifier;LightGBM;SVM;KNN;LogisticRegression;ExtremeRandomTrees;XGBoostClassifier;KNN;LightGBM;XGBoostClassifier;KNN;RandomForest;KNN;LogisticRegression;XGBoostClassifier;XGBoostClassifier;LogisticRegression;XGBoostClassifier;RandomForest;RandomForest;LightGBM;LightGBM;XGBoostClassifier;RandomForest;RandomForest;XGBoostClassifier;XGBoostClassifier;LightGBM;XGBoostClassifier;XGBoostClassifier;LightGBM;XGBoostClassifier;XGBoostClassifier;XGBoostClassifier;XGBoostClassifier;LightGBM;XGBoostClassifier;RandomForest;ExtremeRandomTrees;XGBoostClassifier;RandomForest;XGBoostClassifier;RandomForest;;LightGBM;;;VotingEnsemble;StackEnsemble\", \"dynamic_allowlisting_iterations\": \"<24>;<29>;<35>;<40>;<45>;<50>;\", \"pipeline_id_001\": \"2a31bf008653f7f52a580f7670f6e91b7dc7989c;237a751c2aabb0cab2588ffd3d7cfa582f5c01f4;4785d369e144335682ef87755eedaeb5272752f6;__AutoML_Ensemble__;__AutoML_Stack_Ensemble__\", \"_aml_system_azureml.automl_early_exit_message\": \"No scores improved over last 10 iterations, so experiment stopped early. This early stopping behavior can be disabled by setting enable_early_stopping = False in AutoMLConfig for notebook/python SDK runs.\", \"automl_best_child_run_id\": \"AutoML_032758d2-dde3-41ac-a05f-7a797dadf0d6_51\", \"model_explain_best_run_child_id\": \"AutoML_032758d2-dde3-41ac-a05f-7a797dadf0d6_51\"}, \"end_time_utc\": \"2023-04-23T10:56:03.721515Z\", \"status\": \"Completed\", \"log_files\": {}, \"log_groups\": [], \"run_duration\": \"0:24:13\", \"run_number\": \"1682245910\", \"run_queued_details\": {\"status\": \"Completed\", \"details\": null}}, \"child_runs\": [{\"run_id\": \"AutoML_032758d2-dde3-41ac-a05f-7a797dadf0d6_setup\", \"run_number\": 1682245922, \"metric\": null, \"status\": \"Completed\", \"run_type\": \"azureml.scriptrun\", \"training_percent\": null, \"start_time\": \"2023-04-23T10:32:17.442748Z\", \"end_time\": \"2023-04-23T10:34:17.633849Z\", \"created_time\": \"2023-04-23T10:32:02.59303Z\", \"created_time_dt\": \"2023-04-23T10:32:02.59303Z\", \"duration\": \"0:02:15\", \"iteration\": null, \"goal\": null, \"run_name\": \"Completed\", \"run_properties\": null}, {\"run_id\": \"AutoML_032758d2-dde3-41ac-a05f-7a797dadf0d6_featurize\", \"run_number\": 1682246057, \"metric\": null, \"status\": \"Completed\", \"run_type\": \"automl.featurization\", \"training_percent\": null, \"start_time\": \"2023-04-23T10:34:18.206064Z\", \"end_time\": \"2023-04-23T10:36:33.73528Z\", \"created_time\": \"2023-04-23T10:34:17.908162Z\", \"created_time_dt\": \"2023-04-23T10:34:17.908162Z\", \"duration\": \"0:02:15\", \"iteration\": null, \"goal\": null, \"run_name\": \"Completed\", \"run_properties\": null}, {\"run_id\": \"AutoML_032758d2-dde3-41ac-a05f-7a797dadf0d6_0\", \"run_number\": 1682246195, \"metric\": null, \"status\": \"Completed\", \"run_type\": null, \"training_percent\": \"100\", \"start_time\": \"2023-04-23T10:36:57.291083Z\", \"end_time\": \"2023-04-23T10:37:12.858502Z\", \"created_time\": \"2023-04-23T10:36:35.067185Z\", \"created_time_dt\": \"2023-04-23T10:36:35.067185Z\", \"duration\": \"0:00:37\", \"iteration\": \"0\", \"goal\": \"accuracy_max\", \"run_name\": \"MaxAbsScaler, LightGBM\", \"run_properties\": \"copy=True\", \"primary_metric\": 0.84375, \"best_metric\": 0.84375}, {\"run_id\": \"AutoML_032758d2-dde3-41ac-a05f-7a797dadf0d6_worker_0\", \"run_number\": 1682246196, \"metric\": null, \"status\": \"Completed\", \"run_type\": \"azureml.scriptrun\", \"training_percent\": null, \"start_time\": \"2023-04-23T10:36:50.773749Z\", \"end_time\": \"2023-04-23T10:38:51.083133Z\", \"created_time\": \"2023-04-23T10:36:36.382414Z\", \"created_time_dt\": \"2023-04-23T10:36:36.382414Z\", \"duration\": \"0:02:14\", \"iteration\": null, \"goal\": null, \"run_name\": \"Completed\", \"run_properties\": null}, {\"run_id\": \"AutoML_032758d2-dde3-41ac-a05f-7a797dadf0d6_worker_1\", \"run_number\": 1682246197, \"metric\": null, \"status\": \"Completed\", \"run_type\": \"azureml.scriptrun\", \"training_percent\": null, \"start_time\": \"2023-04-23T10:36:51.861878Z\", \"end_time\": \"2023-04-23T10:38:52.061566Z\", \"created_time\": \"2023-04-23T10:36:37.820573Z\", \"created_time_dt\": \"2023-04-23T10:36:37.820573Z\", \"duration\": \"0:02:14\", \"iteration\": null, \"goal\": null, \"run_name\": \"Completed\", \"run_properties\": null}, {\"run_id\": \"AutoML_032758d2-dde3-41ac-a05f-7a797dadf0d6_9\", \"run_number\": 1682246198, \"metric\": null, \"status\": \"Completed\", \"run_type\": null, \"training_percent\": \"100\", \"start_time\": \"2023-04-23T10:37:17.84371Z\", \"end_time\": \"2023-04-23T10:37:31.321469Z\", \"created_time\": \"2023-04-23T10:36:38.348049Z\", \"created_time_dt\": \"2023-04-23T10:36:38.348049Z\", \"duration\": \"0:00:52\", \"iteration\": \"9\", \"goal\": \"accuracy_max\", \"run_name\": \"StandardScalerWrapper, SVM\", \"run_properties\": \"copy=True, with_mean=True, with_std=True\", \"primary_metric\": 0.73214286, \"best_metric\": 0.84375}, {\"run_id\": \"AutoML_032758d2-dde3-41ac-a05f-7a797dadf0d6_worker_2\", \"run_number\": 1682246199, \"metric\": null, \"status\": \"Completed\", \"run_type\": \"azureml.scriptrun\", \"training_percent\": null, \"start_time\": \"2023-04-23T10:36:54.295243Z\", \"end_time\": \"2023-04-23T10:38:54.474023Z\", \"created_time\": \"2023-04-23T10:36:39.263101Z\", \"created_time_dt\": \"2023-04-23T10:36:39.263101Z\", \"duration\": \"0:02:15\", \"iteration\": null, \"goal\": null, \"run_name\": \"Completed\", \"run_properties\": null}, {\"run_id\": \"AutoML_032758d2-dde3-41ac-a05f-7a797dadf0d6_worker_3\", \"run_number\": 1682246200, \"metric\": null, \"status\": \"Completed\", \"run_type\": \"azureml.scriptrun\", \"training_percent\": null, \"start_time\": \"2023-04-23T10:36:54.663516Z\", \"end_time\": \"2023-04-23T10:38:54.847872Z\", \"created_time\": \"2023-04-23T10:36:40.813265Z\", \"created_time_dt\": \"2023-04-23T10:36:40.813265Z\", \"duration\": \"0:02:14\", \"iteration\": null, \"goal\": null, \"run_name\": \"Completed\", \"run_properties\": null}, {\"run_id\": \"AutoML_032758d2-dde3-41ac-a05f-7a797dadf0d6_17\", \"run_number\": 1682246201, \"metric\": null, \"status\": \"Completed\", \"run_type\": null, \"training_percent\": \"100\", \"start_time\": \"2023-04-23T10:38:34.452238Z\", \"end_time\": \"2023-04-23T10:38:43.267474Z\", \"created_time\": \"2023-04-23T10:36:41.28622Z\", \"created_time_dt\": \"2023-04-23T10:36:41.28622Z\", \"duration\": \"0:02:01\", \"iteration\": \"17\", \"goal\": \"accuracy_max\", \"run_name\": \"MaxAbsScaler, LogisticRegression\", \"run_properties\": \"copy=True\", \"primary_metric\": 0.80803571, \"best_metric\": 0.84375}, {\"run_id\": \"AutoML_032758d2-dde3-41ac-a05f-7a797dadf0d6_worker_4\", \"run_number\": 1682246202, \"metric\": null, \"status\": \"Completed\", \"run_type\": \"azureml.scriptrun\", \"training_percent\": null, \"start_time\": \"2023-04-23T10:38:56.4582Z\", \"end_time\": \"2023-04-23T10:40:56.704678Z\", \"created_time\": \"2023-04-23T10:36:42.200095Z\", \"created_time_dt\": \"2023-04-23T10:36:42.200095Z\", \"duration\": \"0:04:14\", \"iteration\": null, \"goal\": null, \"run_name\": \"Completed\", \"run_properties\": null}, {\"run_id\": \"AutoML_032758d2-dde3-41ac-a05f-7a797dadf0d6_21\", \"run_number\": 1682246335, \"metric\": null, \"status\": \"Completed\", \"run_type\": \"azureml.scriptrun\", \"training_percent\": \"100\", \"start_time\": \"2023-04-23T10:39:43.04868Z\", \"end_time\": \"2023-04-23T10:41:10.358918Z\", \"created_time\": \"2023-04-23T10:38:55.19922Z\", \"created_time_dt\": \"2023-04-23T10:38:55.19922Z\", \"duration\": \"0:02:15\", \"iteration\": \"21\", \"goal\": \"accuracy_max\", \"run_name\": \"StandardScalerWrapper, XGBoostClassifier\", \"run_properties\": \"copy=True, with_mean=False, with_std=False\", \"primary_metric\": 0.83035714, \"best_metric\": 0.84375}, {\"run_id\": \"AutoML_032758d2-dde3-41ac-a05f-7a797dadf0d6_22\", \"run_number\": 1682246344, \"metric\": null, \"status\": \"Completed\", \"run_type\": \"azureml.scriptrun\", \"training_percent\": \"100\", \"start_time\": \"2023-04-23T10:39:18.210333Z\", \"end_time\": \"2023-04-23T10:41:18.400512Z\", \"created_time\": \"2023-04-23T10:39:04.303827Z\", \"created_time_dt\": \"2023-04-23T10:39:04.303827Z\", \"duration\": \"0:02:14\", \"iteration\": \"22\", \"goal\": \"accuracy_max\", \"run_name\": \"SparseNormalizer, RandomForest\", \"run_properties\": \"copy=True, norm='l2'\", \"primary_metric\": 0.85267857, \"best_metric\": 0.85267857}, {\"run_id\": \"AutoML_032758d2-dde3-41ac-a05f-7a797dadf0d6_24\", \"run_number\": 1682246472, \"metric\": null, \"status\": \"Completed\", \"run_type\": \"azureml.scriptrun\", \"training_percent\": \"100\", \"start_time\": \"2023-04-23T10:41:26.994805Z\", \"end_time\": \"2023-04-23T10:43:27.35817Z\", \"created_time\": \"2023-04-23T10:41:12.764282Z\", \"created_time_dt\": \"2023-04-23T10:41:12.764282Z\", \"duration\": \"0:02:14\", \"iteration\": \"24\", \"goal\": \"accuracy_max\", \"run_name\": \"StandardScalerWrapper, LightGBM\", \"run_properties\": \"copy=True, with_mean=True, with_std=False\", \"primary_metric\": 0.83482143, \"best_metric\": 0.85267857}, {\"run_id\": \"AutoML_032758d2-dde3-41ac-a05f-7a797dadf0d6_27\", \"run_number\": 1682246479, \"metric\": null, \"status\": \"Completed\", \"run_type\": \"azureml.scriptrun\", \"training_percent\": \"100\", \"start_time\": \"2023-04-23T10:41:33.64947Z\", \"end_time\": \"2023-04-23T10:43:33.81759Z\", \"created_time\": \"2023-04-23T10:41:19.862119Z\", \"created_time_dt\": \"2023-04-23T10:41:19.862119Z\", \"duration\": \"0:02:13\", \"iteration\": \"27\", \"goal\": \"accuracy_max\", \"run_name\": \"SparseNormalizer, XGBoostClassifier\", \"run_properties\": \"copy=True, norm='l1'\", \"primary_metric\": 0.85714286, \"best_metric\": 0.85714286}, {\"run_id\": \"AutoML_032758d2-dde3-41ac-a05f-7a797dadf0d6_28\", \"run_number\": 1682246481, \"metric\": null, \"status\": \"Completed\", \"run_type\": \"azureml.scriptrun\", \"training_percent\": \"100\", \"start_time\": \"2023-04-23T10:41:35.558508Z\", \"end_time\": \"2023-04-23T10:43:35.789974Z\", \"created_time\": \"2023-04-23T10:41:21.770273Z\", \"created_time_dt\": \"2023-04-23T10:41:21.770273Z\", \"duration\": \"0:02:14\", \"iteration\": \"28\", \"goal\": \"accuracy_max\", \"run_name\": \"RobustScaler, RandomForest\", \"run_properties\": \"copy=True, quantile_range=[25, 75], with_centering=True,\\n             with_scaling=True\", \"primary_metric\": 0.84821429, \"best_metric\": 0.85714286}, {\"run_id\": \"AutoML_032758d2-dde3-41ac-a05f-7a797dadf0d6_29\", \"run_number\": 1682246610, \"metric\": null, \"status\": \"Completed\", \"run_type\": \"azureml.scriptrun\", \"training_percent\": \"100\", \"start_time\": \"2023-04-23T10:44:20.278746Z\", \"end_time\": \"2023-04-23T10:45:44.644062Z\", \"created_time\": \"2023-04-23T10:43:30.101446Z\", \"created_time_dt\": \"2023-04-23T10:43:30.101446Z\", \"duration\": \"0:02:14\", \"iteration\": \"29\", \"goal\": \"accuracy_max\", \"run_name\": \"StandardScalerWrapper, RandomForest\", \"run_properties\": \"copy=True, with_mean=False, with_std=True\", \"primary_metric\": 0.83928571, \"best_metric\": 0.85714286}, {\"run_id\": \"AutoML_032758d2-dde3-41ac-a05f-7a797dadf0d6_31\", \"run_number\": 1682246615, \"metric\": null, \"status\": \"Completed\", \"run_type\": \"azureml.scriptrun\", \"training_percent\": \"100\", \"start_time\": \"2023-04-23T10:43:49.839895Z\", \"end_time\": \"2023-04-23T10:45:50.136951Z\", \"created_time\": \"2023-04-23T10:43:35.357505Z\", \"created_time_dt\": \"2023-04-23T10:43:35.357505Z\", \"duration\": \"0:02:14\", \"iteration\": \"31\", \"goal\": \"accuracy_max\", \"run_name\": \"SparseNormalizer, XGBoostClassifier\", \"run_properties\": \"copy=True, norm='l2'\", \"primary_metric\": 0.84375, \"best_metric\": 0.85714286}, {\"run_id\": \"AutoML_032758d2-dde3-41ac-a05f-7a797dadf0d6_32\", \"run_number\": 1682246617, \"metric\": null, \"status\": \"Completed\", \"run_type\": \"azureml.scriptrun\", \"training_percent\": \"100\", \"start_time\": \"2023-04-23T10:43:51.364815Z\", \"end_time\": \"2023-04-23T10:45:51.554531Z\", \"created_time\": \"2023-04-23T10:43:37.546652Z\", \"created_time_dt\": \"2023-04-23T10:43:37.546652Z\", \"duration\": \"0:02:14\", \"iteration\": \"32\", \"goal\": \"accuracy_max\", \"run_name\": \"RobustScaler, LightGBM\", \"run_properties\": \"copy=True, quantile_range=[25, 75], with_centering=True,\\n             with_scaling=False\", \"primary_metric\": 0.84375, \"best_metric\": 0.85714286}, {\"run_id\": \"AutoML_032758d2-dde3-41ac-a05f-7a797dadf0d6_33\", \"run_number\": 1682246746, \"metric\": null, \"status\": \"Completed\", \"run_type\": \"azureml.scriptrun\", \"training_percent\": \"100\", \"start_time\": \"2023-04-23T10:46:01.36243Z\", \"end_time\": \"2023-04-23T10:48:01.616524Z\", \"created_time\": \"2023-04-23T10:45:46.278042Z\", \"created_time_dt\": \"2023-04-23T10:45:46.278042Z\", \"duration\": \"0:02:15\", \"iteration\": \"33\", \"goal\": \"accuracy_max\", \"run_name\": \"SparseNormalizer, XGBoostClassifier\", \"run_properties\": \"copy=True, norm='l2'\", \"primary_metric\": 0.82589286, \"best_metric\": 0.85714286}, {\"run_id\": \"AutoML_032758d2-dde3-41ac-a05f-7a797dadf0d6_34\", \"run_number\": 1682246748, \"metric\": null, \"status\": \"Completed\", \"run_type\": \"azureml.scriptrun\", \"training_percent\": \"100\", \"start_time\": \"2023-04-23T10:46:02.793207Z\", \"end_time\": \"2023-04-23T10:48:03.018767Z\", \"created_time\": \"2023-04-23T10:45:48.796929Z\", \"created_time_dt\": \"2023-04-23T10:45:48.796929Z\", \"duration\": \"0:02:14\", \"iteration\": \"34\", \"goal\": \"accuracy_max\", \"run_name\": \"MinMaxScaler, LightGBM\", \"run_properties\": \"copy=True, feature_range=(0, 1\", \"primary_metric\": 0.84375, \"best_metric\": 0.85714286}, {\"run_id\": \"AutoML_032758d2-dde3-41ac-a05f-7a797dadf0d6_35\", \"run_number\": 1682246752, \"metric\": null, \"status\": \"Completed\", \"run_type\": \"azureml.scriptrun\", \"training_percent\": \"100\", \"start_time\": \"2023-04-23T10:46:06.381322Z\", \"end_time\": \"2023-04-23T10:48:06.582785Z\", \"created_time\": \"2023-04-23T10:45:52.406547Z\", \"created_time_dt\": \"2023-04-23T10:45:52.406547Z\", \"duration\": \"0:02:14\", \"iteration\": \"35\", \"goal\": \"accuracy_max\", \"run_name\": \"PCA, XGBoostClassifier\", \"run_properties\": \"copy=True, iterated_power='auto', n_components=0.8015789473684211,\\n    random_state=None, svd_solver='auto', tol=0.0, whiten=False\", \"primary_metric\": 0.66964286, \"best_metric\": 0.85714286}, {\"run_id\": \"AutoML_032758d2-dde3-41ac-a05f-7a797dadf0d6_36\", \"run_number\": 1682246754, \"metric\": null, \"status\": \"Completed\", \"run_type\": \"azureml.scriptrun\", \"training_percent\": \"100\", \"start_time\": \"2023-04-23T10:46:08.834636Z\", \"end_time\": \"2023-04-23T10:48:09.036682Z\", \"created_time\": \"2023-04-23T10:45:54.437509Z\", \"created_time_dt\": \"2023-04-23T10:45:54.437509Z\", \"duration\": \"0:02:14\", \"iteration\": \"36\", \"goal\": \"accuracy_max\", \"run_name\": \"StandardScalerWrapper, XGBoostClassifier\", \"run_properties\": \"copy=True, with_mean=False, with_std=False\", \"primary_metric\": 0.83482143, \"best_metric\": 0.85714286}, {\"run_id\": \"AutoML_032758d2-dde3-41ac-a05f-7a797dadf0d6_37\", \"run_number\": 1682246848, \"metric\": null, \"status\": \"Completed\", \"run_type\": \"azureml.scriptrun\", \"training_percent\": \"100\", \"start_time\": \"2023-04-23T10:47:43.488926Z\", \"end_time\": \"2023-04-23T10:49:43.715531Z\", \"created_time\": \"2023-04-23T10:47:28.765405Z\", \"created_time_dt\": \"2023-04-23T10:47:28.765405Z\", \"duration\": \"0:02:14\", \"iteration\": \"37\", \"goal\": \"accuracy_max\", \"run_name\": \"StandardScalerWrapper, XGBoostClassifier\", \"run_properties\": \"copy=True, with_mean=False, with_std=False\", \"primary_metric\": 0.84821429, \"best_metric\": 0.85714286}, {\"run_id\": \"AutoML_032758d2-dde3-41ac-a05f-7a797dadf0d6_38\", \"run_number\": 1682246883, \"metric\": null, \"status\": \"Completed\", \"run_type\": \"azureml.scriptrun\", \"training_percent\": \"100\", \"start_time\": \"2023-04-23T10:48:17.593083Z\", \"end_time\": \"2023-04-23T10:50:17.881122Z\", \"created_time\": \"2023-04-23T10:48:03.052977Z\", \"created_time_dt\": \"2023-04-23T10:48:03.052977Z\", \"duration\": \"0:02:14\", \"iteration\": \"38\", \"goal\": \"accuracy_max\", \"run_name\": \"StandardScalerWrapper, XGBoostClassifier\", \"run_properties\": \"copy=True, with_mean=False, with_std=False\", \"primary_metric\": 0.83482143, \"best_metric\": 0.85714286}, {\"run_id\": \"AutoML_032758d2-dde3-41ac-a05f-7a797dadf0d6_39\", \"run_number\": 1682246885, \"metric\": null, \"status\": \"Completed\", \"run_type\": \"azureml.scriptrun\", \"training_percent\": \"100\", \"start_time\": \"2023-04-23T10:48:19.141938Z\", \"end_time\": \"2023-04-23T10:50:19.325205Z\", \"created_time\": \"2023-04-23T10:48:05.111602Z\", \"created_time_dt\": \"2023-04-23T10:48:05.111602Z\", \"duration\": \"0:02:14\", \"iteration\": \"39\", \"goal\": \"accuracy_max\", \"run_name\": \"StandardScalerWrapper, LightGBM\", \"run_properties\": \"copy=True, with_mean=False, with_std=False\", \"primary_metric\": 0.84375, \"best_metric\": 0.85714286}, {\"run_id\": \"AutoML_032758d2-dde3-41ac-a05f-7a797dadf0d6_40\", \"run_number\": 1682246889, \"metric\": null, \"status\": \"Completed\", \"run_type\": \"azureml.scriptrun\", \"training_percent\": \"100\", \"start_time\": \"2023-04-23T10:48:23.508875Z\", \"end_time\": \"2023-04-23T10:50:23.673461Z\", \"created_time\": \"2023-04-23T10:48:09.14038Z\", \"created_time_dt\": \"2023-04-23T10:48:09.14038Z\", \"duration\": \"0:02:14\", \"iteration\": \"40\", \"goal\": \"accuracy_max\", \"run_name\": \"SparseNormalizer, XGBoostClassifier\", \"run_properties\": \"copy=True, norm='l2'\", \"primary_metric\": 0.85267857, \"best_metric\": 0.85714286}, {\"run_id\": \"AutoML_032758d2-dde3-41ac-a05f-7a797dadf0d6_41\", \"run_number\": 1682246891, \"metric\": null, \"status\": \"Completed\", \"run_type\": \"azureml.scriptrun\", \"training_percent\": \"100\", \"start_time\": \"2023-04-23T10:48:24.956278Z\", \"end_time\": \"2023-04-23T10:50:25.104991Z\", \"created_time\": \"2023-04-23T10:48:11.238296Z\", \"created_time_dt\": \"2023-04-23T10:48:11.238296Z\", \"duration\": \"0:02:13\", \"iteration\": \"41\", \"goal\": \"accuracy_max\", \"run_name\": \"MinMaxScaler, RandomForest\", \"run_properties\": \"copy=True, feature_range=(0, 1\", \"primary_metric\": 0.83482143, \"best_metric\": 0.85714286}, {\"run_id\": \"AutoML_032758d2-dde3-41ac-a05f-7a797dadf0d6_42\", \"run_number\": 1682246985, \"metric\": null, \"status\": \"Completed\", \"run_type\": \"azureml.scriptrun\", \"training_percent\": \"100\", \"start_time\": \"2023-04-23T10:50:22.62793Z\", \"end_time\": \"2023-04-23T10:51:59.77962Z\", \"created_time\": \"2023-04-23T10:49:45.161954Z\", \"created_time_dt\": \"2023-04-23T10:49:45.161954Z\", \"duration\": \"0:02:14\", \"iteration\": \"42\", \"goal\": \"accuracy_max\", \"run_name\": \"StandardScalerWrapper, ExtremeRandomTrees\", \"run_properties\": \"copy=True, with_mean=False, with_std=True\", \"primary_metric\": 0.8125, \"best_metric\": 0.85714286}, {\"run_id\": \"AutoML_032758d2-dde3-41ac-a05f-7a797dadf0d6_43\", \"run_number\": 1682247019, \"metric\": null, \"status\": \"Completed\", \"run_type\": \"azureml.scriptrun\", \"training_percent\": \"100\", \"start_time\": \"2023-04-23T10:50:33.640634Z\", \"end_time\": \"2023-04-23T10:52:34.150224Z\", \"created_time\": \"2023-04-23T10:50:19.194919Z\", \"created_time_dt\": \"2023-04-23T10:50:19.194919Z\", \"duration\": \"0:02:14\", \"iteration\": \"43\", \"goal\": \"accuracy_max\", \"run_name\": \"StandardScalerWrapper, XGBoostClassifier\", \"run_properties\": \"copy=True, with_mean=False, with_std=False\", \"primary_metric\": 0.83928571, \"best_metric\": 0.85714286}, {\"run_id\": \"AutoML_032758d2-dde3-41ac-a05f-7a797dadf0d6_44\", \"run_number\": 1682247021, \"metric\": null, \"status\": \"Completed\", \"run_type\": \"azureml.scriptrun\", \"training_percent\": \"100\", \"start_time\": \"2023-04-23T10:50:34.965204Z\", \"end_time\": \"2023-04-23T10:52:35.15457Z\", \"created_time\": \"2023-04-23T10:50:21.161818Z\", \"created_time_dt\": \"2023-04-23T10:50:21.161818Z\", \"duration\": \"0:02:13\", \"iteration\": \"44\", \"goal\": \"accuracy_max\", \"run_name\": \"StandardScalerWrapper, RandomForest\", \"run_properties\": \"copy=True, with_mean=False, with_std=False\", \"primary_metric\": 0.83035714, \"best_metric\": 0.85714286}, {\"run_id\": \"AutoML_032758d2-dde3-41ac-a05f-7a797dadf0d6_45\", \"run_number\": 1682247025, \"metric\": null, \"status\": \"Completed\", \"run_type\": \"azureml.scriptrun\", \"training_percent\": \"100\", \"start_time\": \"2023-04-23T10:50:39.908081Z\", \"end_time\": \"2023-04-23T10:52:40.119132Z\", \"created_time\": \"2023-04-23T10:50:25.845795Z\", \"created_time_dt\": \"2023-04-23T10:50:25.845795Z\", \"duration\": \"0:02:14\", \"iteration\": \"45\", \"goal\": \"accuracy_max\", \"run_name\": \"PCA, XGBoostClassifier\", \"run_properties\": \"copy=True, iterated_power='auto', n_components=0.15842105263157896,\\n    random_state=None, svd_solver='auto', tol=0.0, whiten=False\", \"primary_metric\": 0.63392857, \"best_metric\": 0.85714286}, {\"run_id\": \"AutoML_032758d2-dde3-41ac-a05f-7a797dadf0d6_46\", \"run_number\": 1682247027, \"metric\": null, \"status\": \"Completed\", \"run_type\": \"azureml.scriptrun\", \"training_percent\": \"100\", \"start_time\": \"2023-04-23T10:50:41.775968Z\", \"end_time\": \"2023-04-23T10:52:41.883198Z\", \"created_time\": \"2023-04-23T10:50:27.783003Z\", \"created_time_dt\": \"2023-04-23T10:50:27.783003Z\", \"duration\": \"0:02:14\", \"iteration\": \"46\", \"goal\": \"accuracy_max\", \"run_name\": \"MaxAbsScaler, RandomForest\", \"run_properties\": \"copy=True\", \"primary_metric\": 0.85267857, \"best_metric\": 0.85714286}, {\"run_id\": \"AutoML_032758d2-dde3-41ac-a05f-7a797dadf0d6_47\", \"run_number\": 1682247121, \"metric\": null, \"status\": \"Completed\", \"run_type\": \"azureml.scriptrun\", \"training_percent\": \"100\", \"start_time\": \"2023-04-23T10:52:15.934758Z\", \"end_time\": \"2023-04-23T10:52:46.462828Z\", \"created_time\": \"2023-04-23T10:52:01.279337Z\", \"created_time_dt\": \"2023-04-23T10:52:01.279337Z\", \"duration\": \"0:00:45\", \"iteration\": \"47\", \"goal\": \"accuracy_max\", \"run_name\": \"MinMaxScaler, LightGBM\", \"run_properties\": \"copy=True, feature_range=(0, 1\", \"primary_metric\": 0.83035714, \"best_metric\": 0.85714286}, {\"run_id\": \"AutoML_032758d2-dde3-41ac-a05f-7a797dadf0d6_48\", \"run_number\": 1682247155, \"metric\": null, \"status\": \"Canceled\", \"run_type\": \"azureml.scriptrun\", \"training_percent\": \"100\", \"start_time\": \"2023-04-23T10:52:43.99777Z\", \"end_time\": \"2023-04-23T10:53:46.546452Z\", \"created_time\": \"2023-04-23T10:52:35.9873Z\", \"created_time_dt\": \"2023-04-23T10:52:35.9873Z\", \"duration\": \"0:01:10\", \"iteration\": \"48\", \"goal\": null, \"run_name\": \"Canceled\", \"run_properties\": null}, {\"run_id\": \"AutoML_032758d2-dde3-41ac-a05f-7a797dadf0d6_49\", \"run_number\": 1682247158, \"metric\": null, \"status\": \"Canceled\", \"run_type\": \"azureml.scriptrun\", \"training_percent\": \"100\", \"start_time\": \"2023-04-23T10:52:44.020372Z\", \"end_time\": \"2023-04-23T10:53:46.559564Z\", \"created_time\": \"2023-04-23T10:52:38.237347Z\", \"created_time_dt\": \"2023-04-23T10:52:38.237347Z\", \"duration\": \"0:01:08\", \"iteration\": \"49\", \"goal\": null, \"run_name\": \"Canceled\", \"run_properties\": null}, {\"run_id\": \"AutoML_032758d2-dde3-41ac-a05f-7a797dadf0d6_50\", \"run_number\": 1682247162, \"metric\": null, \"status\": \"Canceled\", \"run_type\": \"azureml.scriptrun\", \"training_percent\": \"100\", \"start_time\": \"2023-04-23T10:52:44.027296Z\", \"end_time\": \"2023-04-23T10:52:45.314981Z\", \"created_time\": \"2023-04-23T10:52:42.706953Z\", \"created_time_dt\": \"2023-04-23T10:52:42.706953Z\", \"duration\": \"0:00:02\", \"iteration\": \"50\", \"goal\": null, \"run_name\": \"Canceled\", \"run_properties\": null}, {\"run_id\": \"AutoML_032758d2-dde3-41ac-a05f-7a797dadf0d6_51\", \"run_number\": 1682247227, \"metric\": null, \"status\": \"Completed\", \"run_type\": \"azureml.scriptrun\", \"training_percent\": \"100\", \"start_time\": \"2023-04-23T10:54:02.194187Z\", \"end_time\": \"2023-04-23T10:56:02.433247Z\", \"created_time\": \"2023-04-23T10:53:47.222213Z\", \"created_time_dt\": \"2023-04-23T10:53:47.222213Z\", \"duration\": \"0:02:15\", \"iteration\": \"51\", \"goal\": \"accuracy_max\", \"run_name\": \"VotingEnsemble\", \"run_properties\": \"classification_labels=numpy.array([0, 1]\", \"primary_metric\": 0.86607143, \"best_metric\": 0.86607143}], \"children_metrics\": {\"categories\": [0], \"series\": {\"f1_score_macro\": [{\"categories\": [\"0\", \"9\", \"17\", \"21\", \"22\", \"24\", \"27\", \"28\", \"29\", \"31\", \"32\", \"33\", \"34\", \"35\", \"36\", \"37\", \"38\", \"39\", \"40\", \"41\", \"42\", \"43\", \"44\", \"45\", \"46\", \"47\", \"51\"], \"mode\": \"markers\", \"name\": \"f1_score_macro\", \"stepped\": false, \"type\": \"scatter\", \"data\": [0.8197018831427434, 0.6637109365167189, 0.7689037239616143, 0.8033006409647593, 0.8181661260995626, 0.8037962459093482, 0.8321313803752934, 0.8248173821078181, 0.8083045344398141, 0.8118658463403441, 0.8164282746750549, 0.7944876971202638, 0.8201504672598963, 0.4004350603577407, 0.8101188915114959, 0.8232277815288319, 0.8097814492782295, 0.8153308120595845, 0.8213466176948709, 0.8094031328894778, 0.7806620209059233, 0.8167271534498531, 0.8045847982720293, 0.38746158647844037, 0.8340175869387862, 0.7955802217749204, 0.8435727252849746]}, {\"categories\": [\"0\", \"9\", \"17\", \"21\", \"22\", \"24\", \"27\", \"28\", \"29\", \"31\", \"32\", \"33\", \"34\", \"35\", \"36\", \"37\", \"38\", \"39\", \"40\", \"41\", \"42\", \"43\", \"44\", \"45\", \"46\", \"47\", \"51\"], \"mode\": \"lines\", \"name\": \"f1_score_macro_max\", \"stepped\": true, \"type\": \"scatter\", \"data\": [0.8197018831427434, 0.8197018831427434, 0.8197018831427434, 0.8197018831427434, 0.8197018831427434, 0.8197018831427434, 0.8321313803752934, 0.8321313803752934, 0.8321313803752934, 0.8321313803752934, 0.8321313803752934, 0.8321313803752934, 0.8321313803752934, 0.8321313803752934, 0.8321313803752934, 0.8321313803752934, 0.8321313803752934, 0.8321313803752934, 0.8321313803752934, 0.8321313803752934, 0.8321313803752934, 0.8321313803752934, 0.8321313803752934, 0.8321313803752934, 0.8340175869387862, 0.8340175869387862, 0.8435727252849746]}], \"f1_score_micro\": [{\"categories\": [\"0\", \"9\", \"17\", \"21\", \"22\", \"24\", \"27\", \"28\", \"29\", \"31\", \"32\", \"33\", \"34\", \"35\", \"36\", \"37\", \"38\", \"39\", \"40\", \"41\", \"42\", \"43\", \"44\", \"45\", \"46\", \"47\", \"51\"], \"mode\": \"markers\", \"name\": \"f1_score_micro\", \"stepped\": false, \"type\": \"scatter\", \"data\": [0.84375, 0.7321428571428571, 0.8080357142857142, 0.8303571428571429, 0.8526785714285714, 0.8348214285714286, 0.8571428571428571, 0.8482142857142857, 0.8392857142857143, 0.84375, 0.84375, 0.8258928571428571, 0.84375, 0.6696428571428571, 0.8348214285714286, 0.8482142857142857, 0.8348214285714286, 0.84375, 0.8526785714285714, 0.8348214285714285, 0.8125, 0.8392857142857143, 0.8303571428571428, 0.6339285714285714, 0.8526785714285714, 0.8303571428571429, 0.8660714285714286]}, {\"categories\": [\"0\", \"9\", \"17\", \"21\", \"22\", \"24\", \"27\", \"28\", \"29\", \"31\", \"32\", \"33\", \"34\", \"35\", \"36\", \"37\", \"38\", \"39\", \"40\", \"41\", \"42\", \"43\", \"44\", \"45\", \"46\", \"47\", \"51\"], \"mode\": \"lines\", \"name\": \"f1_score_micro_max\", \"stepped\": true, \"type\": \"scatter\", \"data\": [0.84375, 0.84375, 0.84375, 0.84375, 0.8526785714285714, 0.8526785714285714, 0.8571428571428571, 0.8571428571428571, 0.8571428571428571, 0.8571428571428571, 0.8571428571428571, 0.8571428571428571, 0.8571428571428571, 0.8571428571428571, 0.8571428571428571, 0.8571428571428571, 0.8571428571428571, 0.8571428571428571, 0.8571428571428571, 0.8571428571428571, 0.8571428571428571, 0.8571428571428571, 0.8571428571428571, 0.8571428571428571, 0.8571428571428571, 0.8571428571428571, 0.8660714285714286]}], \"recall_score_micro\": [{\"categories\": [\"0\", \"9\", \"17\", \"21\", \"22\", \"24\", \"27\", \"28\", \"29\", \"31\", \"32\", \"33\", \"34\", \"35\", \"36\", \"37\", \"38\", \"39\", \"40\", \"41\", \"42\", \"43\", \"44\", \"45\", \"46\", \"47\", \"51\"], \"mode\": \"markers\", \"name\": \"recall_score_micro\", \"stepped\": false, \"type\": \"scatter\", \"data\": [0.84375, 0.7321428571428571, 0.8080357142857142, 0.8303571428571429, 0.8526785714285714, 0.8348214285714286, 0.8571428571428571, 0.8482142857142857, 0.8392857142857143, 0.84375, 0.84375, 0.8258928571428571, 0.84375, 0.6696428571428571, 0.8348214285714286, 0.8482142857142857, 0.8348214285714286, 0.84375, 0.8526785714285714, 0.8348214285714285, 0.8125, 0.8392857142857143, 0.8303571428571428, 0.6339285714285714, 0.8526785714285714, 0.8303571428571429, 0.8660714285714286]}, {\"categories\": [\"0\", \"9\", \"17\", \"21\", \"22\", \"24\", \"27\", \"28\", \"29\", \"31\", \"32\", \"33\", \"34\", \"35\", \"36\", \"37\", \"38\", \"39\", \"40\", \"41\", \"42\", \"43\", \"44\", \"45\", \"46\", \"47\", \"51\"], \"mode\": \"lines\", \"name\": \"recall_score_micro_max\", \"stepped\": true, \"type\": \"scatter\", \"data\": [0.84375, 0.84375, 0.84375, 0.84375, 0.8526785714285714, 0.8526785714285714, 0.8571428571428571, 0.8571428571428571, 0.8571428571428571, 0.8571428571428571, 0.8571428571428571, 0.8571428571428571, 0.8571428571428571, 0.8571428571428571, 0.8571428571428571, 0.8571428571428571, 0.8571428571428571, 0.8571428571428571, 0.8571428571428571, 0.8571428571428571, 0.8571428571428571, 0.8571428571428571, 0.8571428571428571, 0.8571428571428571, 0.8571428571428571, 0.8571428571428571, 0.8660714285714286]}], \"norm_macro_recall\": [{\"categories\": [\"0\", \"9\", \"17\", \"21\", \"22\", \"24\", \"27\", \"28\", \"29\", \"31\", \"32\", \"33\", \"34\", \"35\", \"36\", \"37\", \"38\", \"39\", \"40\", \"41\", \"42\", \"43\", \"44\", \"45\", \"46\", \"47\", \"51\"], \"mode\": \"markers\", \"name\": \"norm_macro_recall\", \"stepped\": false, \"type\": \"scatter\", \"data\": [0.6239090924618185, 0.33044949132646406, 0.5145485134186712, 0.5961466155198221, 0.602424467569733, 0.5779881270690094, 0.6473840423087196, 0.6369167955430508, 0.5842381270690093, 0.5992381930599291, 0.6152483471215537, 0.5726646007626996, 0.6300751869483936, 0.0, 0.6126031981528753, 0.6306632630879403, 0.6112304899786966, 0.6145953669716224, 0.6115857540355387, 0.60596441459067, 0.5481388813840392, 0.6266417764445024, 0.6123948027104411, 0.0, 0.6713423756420529, 0.5632596137124473, 0.6629513002540262]}, {\"categories\": [\"0\", \"9\", \"17\", \"21\", \"22\", \"24\", \"27\", \"28\", \"29\", \"31\", \"32\", \"33\", \"34\", \"35\", \"36\", \"37\", \"38\", \"39\", \"40\", \"41\", \"42\", \"43\", \"44\", \"45\", \"46\", \"47\", \"51\"], \"mode\": \"lines\", \"name\": \"norm_macro_recall_max\", \"stepped\": true, \"type\": \"scatter\", \"data\": [0.6239090924618185, 0.6239090924618185, 0.6239090924618185, 0.6239090924618185, 0.6239090924618185, 0.6239090924618185, 0.6473840423087196, 0.6473840423087196, 0.6473840423087196, 0.6473840423087196, 0.6473840423087196, 0.6473840423087196, 0.6473840423087196, 0.6473840423087196, 0.6473840423087196, 0.6473840423087196, 0.6473840423087196, 0.6473840423087196, 0.6473840423087196, 0.6473840423087196, 0.6473840423087196, 0.6473840423087196, 0.6473840423087196, 0.6473840423087196, 0.6713423756420529, 0.6713423756420529, 0.6713423756420529]}], \"f1_score_weighted\": [{\"categories\": [\"0\", \"9\", \"17\", \"21\", \"22\", \"24\", \"27\", \"28\", \"29\", \"31\", \"32\", \"33\", \"34\", \"35\", \"36\", \"37\", \"38\", \"39\", \"40\", \"41\", \"42\", \"43\", \"44\", \"45\", \"46\", \"47\", \"51\"], \"mode\": \"markers\", \"name\": \"f1_score_weighted\", \"stepped\": false, \"type\": \"scatter\", \"data\": [0.8418090503823991, 0.7166718614842583, 0.802273796966946, 0.8285023910719416, 0.8472879063906265, 0.8301225098166525, 0.855026616919014, 0.8461523004519627, 0.8341867699292997, 0.8400220497445212, 0.8413378355081127, 0.8231827479456834, 0.8419772721486244, 0.5384155935702327, 0.8334293394777266, 0.8463824311163997, 0.833464652652364, 0.8407619526310826, 0.8482079077275725, 0.8327904905234739, 0.8101719346275096, 0.8385697175735815, 0.8306726536768554, 0.5198556749118547, 0.8529542714669297, 0.8251261151923661, 0.8638490291318395]}, {\"categories\": [\"0\", \"9\", \"17\", \"21\", \"22\", \"24\", \"27\", \"28\", \"29\", \"31\", \"32\", \"33\", \"34\", \"35\", \"36\", \"37\", \"38\", \"39\", \"40\", \"41\", \"42\", \"43\", \"44\", \"45\", \"46\", \"47\", \"51\"], \"mode\": \"lines\", \"name\": \"f1_score_weighted_max\", \"stepped\": true, \"type\": \"scatter\", \"data\": [0.8418090503823991, 0.8418090503823991, 0.8418090503823991, 0.8418090503823991, 0.8472879063906265, 0.8472879063906265, 0.855026616919014, 0.855026616919014, 0.855026616919014, 0.855026616919014, 0.855026616919014, 0.855026616919014, 0.855026616919014, 0.855026616919014, 0.855026616919014, 0.855026616919014, 0.855026616919014, 0.855026616919014, 0.855026616919014, 0.855026616919014, 0.855026616919014, 0.855026616919014, 0.855026616919014, 0.855026616919014, 0.855026616919014, 0.855026616919014, 0.8638490291318395]}], \"AUC_micro\": [{\"categories\": [\"0\", \"9\", \"17\", \"21\", \"22\", \"24\", \"27\", \"28\", \"29\", \"31\", \"32\", \"33\", \"34\", \"35\", \"36\", \"37\", \"38\", \"39\", \"40\", \"41\", \"42\", \"43\", \"44\", \"45\", \"46\", \"47\", \"51\"], \"mode\": \"markers\", \"name\": \"AUC_micro\", \"stepped\": false, \"type\": \"scatter\", \"data\": [0.9082429846938775, 0.8236208545918366, 0.8827327806122449, 0.907844387755102, 0.9152582908163266, 0.9035395408163266, 0.9123086734693877, 0.920440051020408, 0.9054528061224489, 0.9138233418367347, 0.9222735969387756, 0.9044961734693877, 0.9029815051020409, 0.6696428571428572, 0.9194036989795917, 0.9148596938775511, 0.899234693877551, 0.9085618622448979, 0.908561862244898, 0.9181281887755102, 0.8976403061224489, 0.9226721938775511, 0.8861607142857143, 0.6599968112244897, 0.9173309948979591, 0.8879145408163265, 0.9298469387755102]}, {\"categories\": [\"0\", \"9\", \"17\", \"21\", \"22\", \"24\", \"27\", \"28\", \"29\", \"31\", \"32\", \"33\", \"34\", \"35\", \"36\", \"37\", \"38\", \"39\", \"40\", \"41\", \"42\", \"43\", \"44\", \"45\", \"46\", \"47\", \"51\"], \"mode\": \"lines\", \"name\": \"AUC_micro_max\", \"stepped\": true, \"type\": \"scatter\", \"data\": [0.9082429846938775, 0.9082429846938775, 0.9082429846938775, 0.9082429846938775, 0.9152582908163266, 0.9152582908163266, 0.9152582908163266, 0.920440051020408, 0.920440051020408, 0.920440051020408, 0.9222735969387756, 0.9222735969387756, 0.9222735969387756, 0.9222735969387756, 0.9222735969387756, 0.9222735969387756, 0.9222735969387756, 0.9222735969387756, 0.9222735969387756, 0.9222735969387756, 0.9222735969387756, 0.9226721938775511, 0.9226721938775511, 0.9226721938775511, 0.9226721938775511, 0.9226721938775511, 0.9298469387755102]}], \"AUC_weighted\": [{\"categories\": [\"0\", \"9\", \"17\", \"21\", \"22\", \"24\", \"27\", \"28\", \"29\", \"31\", \"32\", \"33\", \"34\", \"35\", \"36\", \"37\", \"38\", \"39\", \"40\", \"41\", \"42\", \"43\", \"44\", \"45\", \"46\", \"47\", \"51\"], \"mode\": \"markers\", \"name\": \"AUC_weighted\", \"stepped\": false, \"type\": \"scatter\", \"data\": [0.8909226339510306, 0.8063675536040358, 0.866893801589372, 0.8978654528260861, 0.9065407125294684, 0.9014350300818775, 0.89757671569182, 0.911743326072114, 0.8895663647595957, 0.9046171448069249, 0.9105392877771952, 0.885100059286464, 0.8827832005862213, 0.5, 0.9082069070006051, 0.9010406338255923, 0.8836894756516798, 0.8922854167997576, 0.8944956776363538, 0.9087610054415337, 0.8772822848651657, 0.9117549410285178, 0.8595021205544302, 0.4850457498686836, 0.9131441323757884, 0.89420085783066, 0.9242577279664637]}, {\"categories\": [\"0\", \"9\", \"17\", \"21\", \"22\", \"24\", \"27\", \"28\", \"29\", \"31\", \"32\", \"33\", \"34\", \"35\", \"36\", \"37\", \"38\", \"39\", \"40\", \"41\", \"42\", \"43\", \"44\", \"45\", \"46\", \"47\", \"51\"], \"mode\": \"lines\", \"name\": \"AUC_weighted_max\", \"stepped\": true, \"type\": \"scatter\", \"data\": [0.8909226339510306, 0.8909226339510306, 0.8909226339510306, 0.8978654528260861, 0.9065407125294684, 0.9065407125294684, 0.9065407125294684, 0.911743326072114, 0.911743326072114, 0.911743326072114, 0.911743326072114, 0.911743326072114, 0.911743326072114, 0.911743326072114, 0.911743326072114, 0.911743326072114, 0.911743326072114, 0.911743326072114, 0.911743326072114, 0.911743326072114, 0.911743326072114, 0.9117549410285178, 0.9117549410285178, 0.9117549410285178, 0.9131441323757884, 0.9131441323757884, 0.9242577279664637]}], \"weighted_accuracy\": [{\"categories\": [\"0\", \"9\", \"17\", \"21\", \"22\", \"24\", \"27\", \"28\", \"29\", \"31\", \"32\", \"33\", \"34\", \"35\", \"36\", \"37\", \"38\", \"39\", \"40\", \"41\", \"42\", \"43\", \"44\", \"45\", \"46\", \"47\", \"51\"], \"mode\": \"markers\", \"name\": \"weighted_accuracy\", \"stepped\": false, \"type\": \"scatter\", \"data\": [0.8671506894368411, 0.7830199394011121, 0.8457774810229532, 0.8541606575178963, 0.8904230599378202, 0.8689694676834125, 0.8818936808875895, 0.8710139967115177, 0.8743573987178952, 0.876431742183343, 0.8694739674838922, 0.8551151079335166, 0.8648031503944837, 0.7960482158298486, 0.8561973026727205, 0.8716983139087531, 0.8565182279640731, 0.8694490941466635, 0.887197427677427, 0.8585423238870888, 0.8399340881569761, 0.8577634757624731, 0.8478584922064054, 0.7532210077833716, 0.865114124237343, 0.8667405127262442, 0.8916485815289176]}, {\"categories\": [\"0\", \"9\", \"17\", \"21\", \"22\", \"24\", \"27\", \"28\", \"29\", \"31\", \"32\", \"33\", \"34\", \"35\", \"36\", \"37\", \"38\", \"39\", \"40\", \"41\", \"42\", \"43\", \"44\", \"45\", \"46\", \"47\", \"51\"], \"mode\": \"lines\", \"name\": \"weighted_accuracy_max\", \"stepped\": true, \"type\": \"scatter\", \"data\": [0.8671506894368411, 0.8671506894368411, 0.8671506894368411, 0.8671506894368411, 0.8904230599378202, 0.8904230599378202, 0.8904230599378202, 0.8904230599378202, 0.8904230599378202, 0.8904230599378202, 0.8904230599378202, 0.8904230599378202, 0.8904230599378202, 0.8904230599378202, 0.8904230599378202, 0.8904230599378202, 0.8904230599378202, 0.8904230599378202, 0.8904230599378202, 0.8904230599378202, 0.8904230599378202, 0.8904230599378202, 0.8904230599378202, 0.8904230599378202, 0.8904230599378202, 0.8904230599378202, 0.8916485815289176]}], \"precision_score_weighted\": [{\"categories\": [\"0\", \"9\", \"17\", \"21\", \"22\", \"24\", \"27\", \"28\", \"29\", \"31\", \"32\", \"33\", \"34\", \"35\", \"36\", \"37\", \"38\", \"39\", \"40\", \"41\", \"42\", \"43\", \"44\", \"45\", \"46\", \"47\", \"51\"], \"mode\": \"markers\", \"name\": \"precision_score_weighted\", \"stepped\": false, \"type\": \"scatter\", \"data\": [0.8418519661632852, 0.7310071250209355, 0.8062364782507631, 0.8282781285139506, 0.8548486741382281, 0.8382627402967875, 0.8587111471377459, 0.8479131373799109, 0.8420809749077052, 0.8450863517543262, 0.8417286040832552, 0.8262747020767163, 0.8431075865207642, 0.45137117346938777, 0.8332777222940895, 0.8462106178935498, 0.833362111440119, 0.8422159796152188, 0.8543805511180853, 0.8332178609871389, 0.8096522225467409, 0.8388493999404933, 0.8320958646616541, 0.4432830721574344, 0.853385585003232, 0.8371471080070824, 0.8675107224240323]}, {\"categories\": [\"0\", \"9\", \"17\", \"21\", \"22\", \"24\", \"27\", \"28\", \"29\", \"31\", \"32\", \"33\", \"34\", \"35\", \"36\", \"37\", \"38\", \"39\", \"40\", \"41\", \"42\", \"43\", \"44\", \"45\", \"46\", \"47\", \"51\"], \"mode\": \"lines\", \"name\": \"precision_score_weighted_max\", \"stepped\": true, \"type\": \"scatter\", \"data\": [0.8418519661632852, 0.8418519661632852, 0.8418519661632852, 0.8418519661632852, 0.8548486741382281, 0.8548486741382281, 0.8587111471377459, 0.8587111471377459, 0.8587111471377459, 0.8587111471377459, 0.8587111471377459, 0.8587111471377459, 0.8587111471377459, 0.8587111471377459, 0.8587111471377459, 0.8587111471377459, 0.8587111471377459, 0.8587111471377459, 0.8587111471377459, 0.8587111471377459, 0.8587111471377459, 0.8587111471377459, 0.8587111471377459, 0.8587111471377459, 0.8587111471377459, 0.8587111471377459, 0.8675107224240323]}], \"precision_score_macro\": [{\"categories\": [\"0\", \"9\", \"17\", \"21\", \"22\", \"24\", \"27\", \"28\", \"29\", \"31\", \"32\", \"33\", \"34\", \"35\", \"36\", \"37\", \"38\", \"39\", \"40\", \"41\", \"42\", \"43\", \"44\", \"45\", \"46\", \"47\", \"51\"], \"mode\": \"markers\", \"name\": \"precision_score_macro\", \"stepped\": false, \"type\": \"scatter\", \"data\": [0.8300396900663343, 0.7007807815140241, 0.7924241908128525, 0.8104494130569228, 0.8516734255261214, 0.8359676249262247, 0.8477909116049944, 0.835605870261443, 0.8420778891538669, 0.8347904128123251, 0.8292025158304228, 0.8097980738065111, 0.8290512684537215, 0.33482142857142855, 0.8153699109892949, 0.8335038830678365, 0.8154179085100138, 0.8297324902937302, 0.8504169858516889, 0.8188835001793999, 0.7897315217082659, 0.8215620648161688, 0.8043362980622287, 0.3291454081632653, 0.8325815384997595, 0.831961112204079, 0.863040133316296]}, {\"categories\": [\"0\", \"9\", \"17\", \"21\", \"22\", \"24\", \"27\", \"28\", \"29\", \"31\", \"32\", \"33\", \"34\", \"35\", \"36\", \"37\", \"38\", \"39\", \"40\", \"41\", \"42\", \"43\", \"44\", \"45\", \"46\", \"47\", \"51\"], \"mode\": \"lines\", \"name\": \"precision_score_macro_max\", \"stepped\": true, \"type\": \"scatter\", \"data\": [0.8300396900663343, 0.8300396900663343, 0.8300396900663343, 0.8300396900663343, 0.8516734255261214, 0.8516734255261214, 0.8516734255261214, 0.8516734255261214, 0.8516734255261214, 0.8516734255261214, 0.8516734255261214, 0.8516734255261214, 0.8516734255261214, 0.8516734255261214, 0.8516734255261214, 0.8516734255261214, 0.8516734255261214, 0.8516734255261214, 0.8516734255261214, 0.8516734255261214, 0.8516734255261214, 0.8516734255261214, 0.8516734255261214, 0.8516734255261214, 0.8516734255261214, 0.8516734255261214, 0.863040133316296]}], \"balanced_accuracy\": [{\"categories\": [\"0\", \"9\", \"17\", \"21\", \"22\", \"24\", \"27\", \"28\", \"29\", \"31\", \"32\", \"33\", \"34\", \"35\", \"36\", \"37\", \"38\", \"39\", \"40\", \"41\", \"42\", \"43\", \"44\", \"45\", \"46\", \"47\", \"51\"], \"mode\": \"markers\", \"name\": \"balanced_accuracy\", \"stepped\": false, \"type\": \"scatter\", \"data\": [0.8119545462309091, 0.665224745663232, 0.7572742567093356, 0.798073307759911, 0.8012122337848666, 0.7889940635345047, 0.8236920211543597, 0.8184583977715254, 0.7921190635345046, 0.7996190965299645, 0.8076241735607769, 0.7863323003813498, 0.8150375934741967, 0.5, 0.8063015990764377, 0.8153316315439701, 0.8056152449893483, 0.8072976834858112, 0.8057928770177694, 0.802982207295335, 0.7740694406920197, 0.8133208882222512, 0.8061974013552207, 0.47498206599713055, 0.8356711878210263, 0.7816298068562237, 0.8314756501270131]}, {\"categories\": [\"0\", \"9\", \"17\", \"21\", \"22\", \"24\", \"27\", \"28\", \"29\", \"31\", \"32\", \"33\", \"34\", \"35\", \"36\", \"37\", \"38\", \"39\", \"40\", \"41\", \"42\", \"43\", \"44\", \"45\", \"46\", \"47\", \"51\"], \"mode\": \"lines\", \"name\": \"balanced_accuracy_max\", \"stepped\": true, \"type\": \"scatter\", \"data\": [0.8119545462309091, 0.8119545462309091, 0.8119545462309091, 0.8119545462309091, 0.8119545462309091, 0.8119545462309091, 0.8236920211543597, 0.8236920211543597, 0.8236920211543597, 0.8236920211543597, 0.8236920211543597, 0.8236920211543597, 0.8236920211543597, 0.8236920211543597, 0.8236920211543597, 0.8236920211543597, 0.8236920211543597, 0.8236920211543597, 0.8236920211543597, 0.8236920211543597, 0.8236920211543597, 0.8236920211543597, 0.8236920211543597, 0.8236920211543597, 0.8356711878210263, 0.8356711878210263, 0.8356711878210263]}], \"average_precision_score_macro\": [{\"categories\": [\"0\", \"9\", \"17\", \"21\", \"22\", \"24\", \"27\", \"28\", \"29\", \"31\", \"32\", \"33\", \"34\", \"35\", \"36\", \"37\", \"38\", \"39\", \"40\", \"41\", \"42\", \"43\", \"44\", \"45\", \"46\", \"47\", \"51\"], \"mode\": \"markers\", \"name\": \"average_precision_score_macro\", \"stepped\": false, \"type\": \"scatter\", \"data\": [0.88177435988504, 0.7647932245663015, 0.8474258278274889, 0.8805324490919472, 0.8916069558121426, 0.8907533892241446, 0.887216172864662, 0.9001656474894697, 0.8728773886017231, 0.8970622457924252, 0.9000603897890245, 0.8777756146376113, 0.8671128524138999, 0.5, 0.8997888364888302, 0.8822321003581641, 0.8686289351460358, 0.8785356441153338, 0.8838278861725908, 0.9040875692327477, 0.8646878323670797, 0.9009386046123851, 0.8579796841227922, 0.503706979704097, 0.8983785596658737, 0.8781603685179389, 0.9072148701681123]}, {\"categories\": [\"0\", \"9\", \"17\", \"21\", \"22\", \"24\", \"27\", \"28\", \"29\", \"31\", \"32\", \"33\", \"34\", \"35\", \"36\", \"37\", \"38\", \"39\", \"40\", \"41\", \"42\", \"43\", \"44\", \"45\", \"46\", \"47\", \"51\"], \"mode\": \"lines\", \"name\": \"average_precision_score_macro_max\", \"stepped\": true, \"type\": \"scatter\", \"data\": [0.88177435988504, 0.88177435988504, 0.88177435988504, 0.88177435988504, 0.8916069558121426, 0.8916069558121426, 0.8916069558121426, 0.9001656474894697, 0.9001656474894697, 0.9001656474894697, 0.9001656474894697, 0.9001656474894697, 0.9001656474894697, 0.9001656474894697, 0.9001656474894697, 0.9001656474894697, 0.9001656474894697, 0.9001656474894697, 0.9001656474894697, 0.9040875692327477, 0.9040875692327477, 0.9040875692327477, 0.9040875692327477, 0.9040875692327477, 0.9040875692327477, 0.9040875692327477, 0.9072148701681123]}], \"log_loss\": [{\"categories\": [\"0\", \"9\", \"17\", \"21\", \"22\", \"24\", \"27\", \"28\", \"29\", \"31\", \"32\", \"33\", \"34\", \"35\", \"36\", \"37\", \"38\", \"39\", \"40\", \"41\", \"42\", \"43\", \"44\", \"45\", \"46\", \"47\", \"51\"], \"mode\": \"markers\", \"name\": \"log_loss\", \"stepped\": false, \"type\": \"scatter\", \"data\": [0.4660535436726282, 0.5298309988193516, 0.4283277741516588, 0.3968032691870711, 0.39491699231550254, 0.42901821328605505, 0.39514375715667616, 0.3764623281881134, 0.3910180836574615, 0.3701962223049744, 0.3661481426466121, 0.5306020208995539, 0.4653851859950969, 0.639803222775324, 0.4350220593758463, 0.37422603571911084, 0.46656393619197617, 0.3934220534837499, 0.40469750370360225, 0.37637259694230885, 0.4290178380133245, 0.37282554633823717, 0.5290479458728168, 0.6609904674116394, 0.3721859391833969, 0.47754813009542224, 0.35057482047601163]}, {\"categories\": [\"0\", \"9\", \"17\", \"21\", \"22\", \"24\", \"27\", \"28\", \"29\", \"31\", \"32\", \"33\", \"34\", \"35\", \"36\", \"37\", \"38\", \"39\", \"40\", \"41\", \"42\", \"43\", \"44\", \"45\", \"46\", \"47\", \"51\"], \"mode\": \"lines\", \"name\": \"log_loss_min\", \"stepped\": true, \"type\": \"scatter\", \"data\": [0.4660535436726282, 0.4660535436726282, 0.4283277741516588, 0.3968032691870711, 0.39491699231550254, 0.39491699231550254, 0.39491699231550254, 0.3764623281881134, 0.3764623281881134, 0.3701962223049744, 0.3661481426466121, 0.3661481426466121, 0.3661481426466121, 0.3661481426466121, 0.3661481426466121, 0.3661481426466121, 0.3661481426466121, 0.3661481426466121, 0.3661481426466121, 0.3661481426466121, 0.3661481426466121, 0.3661481426466121, 0.3661481426466121, 0.3661481426466121, 0.3661481426466121, 0.3661481426466121, 0.35057482047601163]}], \"accuracy\": [{\"categories\": [\"0\", \"9\", \"17\", \"21\", \"22\", \"24\", \"27\", \"28\", \"29\", \"31\", \"32\", \"33\", \"34\", \"35\", \"36\", \"37\", \"38\", \"39\", \"40\", \"41\", \"42\", \"43\", \"44\", \"45\", \"46\", \"47\", \"51\"], \"mode\": \"markers\", \"name\": \"accuracy\", \"stepped\": false, \"type\": \"scatter\", \"data\": [0.84375, 0.7321428571428571, 0.8080357142857142, 0.8303571428571429, 0.8526785714285714, 0.8348214285714286, 0.8571428571428571, 0.8482142857142857, 0.8392857142857143, 0.84375, 0.84375, 0.8258928571428571, 0.84375, 0.6696428571428571, 0.8348214285714286, 0.8482142857142857, 0.8348214285714286, 0.84375, 0.8526785714285714, 0.8348214285714285, 0.8125, 0.8392857142857143, 0.8303571428571428, 0.6339285714285714, 0.8526785714285714, 0.8303571428571429, 0.8660714285714286]}, {\"categories\": [\"0\", \"9\", \"17\", \"21\", \"22\", \"24\", \"27\", \"28\", \"29\", \"31\", \"32\", \"33\", \"34\", \"35\", \"36\", \"37\", \"38\", \"39\", \"40\", \"41\", \"42\", \"43\", \"44\", \"45\", \"46\", \"47\", \"51\"], \"mode\": \"lines\", \"name\": \"accuracy_max\", \"stepped\": true, \"type\": \"scatter\", \"data\": [0.84375, 0.84375, 0.84375, 0.84375, 0.8526785714285714, 0.8526785714285714, 0.8571428571428571, 0.8571428571428571, 0.8571428571428571, 0.8571428571428571, 0.8571428571428571, 0.8571428571428571, 0.8571428571428571, 0.8571428571428571, 0.8571428571428571, 0.8571428571428571, 0.8571428571428571, 0.8571428571428571, 0.8571428571428571, 0.8571428571428571, 0.8571428571428571, 0.8571428571428571, 0.8571428571428571, 0.8571428571428571, 0.8571428571428571, 0.8571428571428571, 0.8660714285714286]}], \"recall_score_macro\": [{\"categories\": [\"0\", \"9\", \"17\", \"21\", \"22\", \"24\", \"27\", \"28\", \"29\", \"31\", \"32\", \"33\", \"34\", \"35\", \"36\", \"37\", \"38\", \"39\", \"40\", \"41\", \"42\", \"43\", \"44\", \"45\", \"46\", \"47\", \"51\"], \"mode\": \"markers\", \"name\": \"recall_score_macro\", \"stepped\": false, \"type\": \"scatter\", \"data\": [0.8119545462309091, 0.665224745663232, 0.7572742567093356, 0.798073307759911, 0.8012122337848666, 0.7889940635345047, 0.8236920211543597, 0.8184583977715254, 0.7921190635345046, 0.7996190965299645, 0.8076241735607769, 0.7863323003813498, 0.8150375934741967, 0.5, 0.8063015990764377, 0.8153316315439701, 0.8056152449893483, 0.8072976834858112, 0.8057928770177694, 0.802982207295335, 0.7740694406920197, 0.8133208882222512, 0.8061974013552207, 0.47498206599713055, 0.8356711878210263, 0.7816298068562237, 0.8314756501270131]}, {\"categories\": [\"0\", \"9\", \"17\", \"21\", \"22\", \"24\", \"27\", \"28\", \"29\", \"31\", \"32\", \"33\", \"34\", \"35\", \"36\", \"37\", \"38\", \"39\", \"40\", \"41\", \"42\", \"43\", \"44\", \"45\", \"46\", \"47\", \"51\"], \"mode\": \"lines\", \"name\": \"recall_score_macro_max\", \"stepped\": true, \"type\": \"scatter\", \"data\": [0.8119545462309091, 0.8119545462309091, 0.8119545462309091, 0.8119545462309091, 0.8119545462309091, 0.8119545462309091, 0.8236920211543597, 0.8236920211543597, 0.8236920211543597, 0.8236920211543597, 0.8236920211543597, 0.8236920211543597, 0.8236920211543597, 0.8236920211543597, 0.8236920211543597, 0.8236920211543597, 0.8236920211543597, 0.8236920211543597, 0.8236920211543597, 0.8236920211543597, 0.8236920211543597, 0.8236920211543597, 0.8236920211543597, 0.8236920211543597, 0.8356711878210263, 0.8356711878210263, 0.8356711878210263]}], \"average_precision_score_micro\": [{\"categories\": [\"0\", \"9\", \"17\", \"21\", \"22\", \"24\", \"27\", \"28\", \"29\", \"31\", \"32\", \"33\", \"34\", \"35\", \"36\", \"37\", \"38\", \"39\", \"40\", \"41\", \"42\", \"43\", \"44\", \"45\", \"46\", \"47\", \"51\"], \"mode\": \"markers\", \"name\": \"average_precision_score_micro\", \"stepped\": false, \"type\": \"scatter\", \"data\": [0.9065207803991744, 0.8267109670880801, 0.8864707278985926, 0.9100879279082726, 0.9166941728990369, 0.9061268820131778, 0.9080863360576997, 0.921816729038187, 0.9040418573590114, 0.914248860512715, 0.9258334361135582, 0.9006230539766135, 0.8976141685228347, 0.6165497448979592, 0.9196223943309069, 0.9190950300507102, 0.8882221620881805, 0.9099377606956786, 0.9073456528359309, 0.9208264015231583, 0.8972757041308406, 0.9274324510952223, 0.8853874919975653, 0.6221250722996394, 0.9192260932032466, 0.8867286524559025, 0.9294155586125372]}, {\"categories\": [\"0\", \"9\", \"17\", \"21\", \"22\", \"24\", \"27\", \"28\", \"29\", \"31\", \"32\", \"33\", \"34\", \"35\", \"36\", \"37\", \"38\", \"39\", \"40\", \"41\", \"42\", \"43\", \"44\", \"45\", \"46\", \"47\", \"51\"], \"mode\": \"lines\", \"name\": \"average_precision_score_micro_max\", \"stepped\": true, \"type\": \"scatter\", \"data\": [0.9065207803991744, 0.9065207803991744, 0.9065207803991744, 0.9100879279082726, 0.9166941728990369, 0.9166941728990369, 0.9166941728990369, 0.921816729038187, 0.921816729038187, 0.921816729038187, 0.9258334361135582, 0.9258334361135582, 0.9258334361135582, 0.9258334361135582, 0.9258334361135582, 0.9258334361135582, 0.9258334361135582, 0.9258334361135582, 0.9258334361135582, 0.9258334361135582, 0.9258334361135582, 0.9274324510952223, 0.9274324510952223, 0.9274324510952223, 0.9274324510952223, 0.9274324510952223, 0.9294155586125372]}], \"average_precision_score_weighted\": [{\"categories\": [\"0\", \"9\", \"17\", \"21\", \"22\", \"24\", \"27\", \"28\", \"29\", \"31\", \"32\", \"33\", \"34\", \"35\", \"36\", \"37\", \"38\", \"39\", \"40\", \"41\", \"42\", \"43\", \"44\", \"45\", \"46\", \"47\", \"51\"], \"mode\": \"markers\", \"name\": \"average_precision_score_weighted\", \"stepped\": false, \"type\": \"scatter\", \"data\": [0.8999874417777096, 0.8137788045916583, 0.8766698065679246, 0.9034816905587806, 0.9140578392346688, 0.9106435144451652, 0.9071289336307657, 0.9187349671743645, 0.8955529650856505, 0.916355961297218, 0.9187210001376439, 0.8989515467060729, 0.8891242250028213, 0.5634566326530612, 0.915736856176929, 0.9065683656720925, 0.8870832764540103, 0.90304900751024, 0.9047598766592957, 0.9206032670029772, 0.8899337088954996, 0.9198792099033989, 0.8817308749209377, 0.5609965258104197, 0.9178607998179314, 0.8969177902084978, 0.9267971154822277]}, {\"categories\": [\"0\", \"9\", \"17\", \"21\", \"22\", \"24\", \"27\", \"28\", \"29\", \"31\", \"32\", \"33\", \"34\", \"35\", \"36\", \"37\", \"38\", \"39\", \"40\", \"41\", \"42\", \"43\", \"44\", \"45\", \"46\", \"47\", \"51\"], \"mode\": \"lines\", \"name\": \"average_precision_score_weighted_max\", \"stepped\": true, \"type\": \"scatter\", \"data\": [0.8999874417777096, 0.8999874417777096, 0.8999874417777096, 0.9034816905587806, 0.9140578392346688, 0.9140578392346688, 0.9140578392346688, 0.9187349671743645, 0.9187349671743645, 0.9187349671743645, 0.9187349671743645, 0.9187349671743645, 0.9187349671743645, 0.9187349671743645, 0.9187349671743645, 0.9187349671743645, 0.9187349671743645, 0.9187349671743645, 0.9187349671743645, 0.9206032670029772, 0.9206032670029772, 0.9206032670029772, 0.9206032670029772, 0.9206032670029772, 0.9206032670029772, 0.9206032670029772, 0.9267971154822277]}], \"recall_score_weighted\": [{\"categories\": [\"0\", \"9\", \"17\", \"21\", \"22\", \"24\", \"27\", \"28\", \"29\", \"31\", \"32\", \"33\", \"34\", \"35\", \"36\", \"37\", \"38\", \"39\", \"40\", \"41\", \"42\", \"43\", \"44\", \"45\", \"46\", \"47\", \"51\"], \"mode\": \"markers\", \"name\": \"recall_score_weighted\", \"stepped\": false, \"type\": \"scatter\", \"data\": [0.84375, 0.7321428571428571, 0.8080357142857142, 0.8303571428571429, 0.8526785714285714, 0.8348214285714286, 0.8571428571428571, 0.8482142857142857, 0.8392857142857143, 0.84375, 0.84375, 0.8258928571428571, 0.84375, 0.6696428571428571, 0.8348214285714286, 0.8482142857142857, 0.8348214285714286, 0.84375, 0.8526785714285714, 0.8348214285714285, 0.8125, 0.8392857142857143, 0.8303571428571428, 0.6339285714285714, 0.8526785714285714, 0.8303571428571429, 0.8660714285714286]}, {\"categories\": [\"0\", \"9\", \"17\", \"21\", \"22\", \"24\", \"27\", \"28\", \"29\", \"31\", \"32\", \"33\", \"34\", \"35\", \"36\", \"37\", \"38\", \"39\", \"40\", \"41\", \"42\", \"43\", \"44\", \"45\", \"46\", \"47\", \"51\"], \"mode\": \"lines\", \"name\": \"recall_score_weighted_max\", \"stepped\": true, \"type\": \"scatter\", \"data\": [0.84375, 0.84375, 0.84375, 0.84375, 0.8526785714285714, 0.8526785714285714, 0.8571428571428571, 0.8571428571428571, 0.8571428571428571, 0.8571428571428571, 0.8571428571428571, 0.8571428571428571, 0.8571428571428571, 0.8571428571428571, 0.8571428571428571, 0.8571428571428571, 0.8571428571428571, 0.8571428571428571, 0.8571428571428571, 0.8571428571428571, 0.8571428571428571, 0.8571428571428571, 0.8571428571428571, 0.8571428571428571, 0.8571428571428571, 0.8571428571428571, 0.8660714285714286]}], \"precision_score_micro\": [{\"categories\": [\"0\", \"9\", \"17\", \"21\", \"22\", \"24\", \"27\", \"28\", \"29\", \"31\", \"32\", \"33\", \"34\", \"35\", \"36\", \"37\", \"38\", \"39\", \"40\", \"41\", \"42\", \"43\", \"44\", \"45\", \"46\", \"47\", \"51\"], \"mode\": \"markers\", \"name\": \"precision_score_micro\", \"stepped\": false, \"type\": \"scatter\", \"data\": [0.84375, 0.7321428571428571, 0.8080357142857142, 0.8303571428571429, 0.8526785714285714, 0.8348214285714286, 0.8571428571428571, 0.8482142857142857, 0.8392857142857143, 0.84375, 0.84375, 0.8258928571428571, 0.84375, 0.6696428571428571, 0.8348214285714286, 0.8482142857142857, 0.8348214285714286, 0.84375, 0.8526785714285714, 0.8348214285714285, 0.8125, 0.8392857142857143, 0.8303571428571428, 0.6339285714285714, 0.8526785714285714, 0.8303571428571429, 0.8660714285714286]}, {\"categories\": [\"0\", \"9\", \"17\", \"21\", \"22\", \"24\", \"27\", \"28\", \"29\", \"31\", \"32\", \"33\", \"34\", \"35\", \"36\", \"37\", \"38\", \"39\", \"40\", \"41\", \"42\", \"43\", \"44\", \"45\", \"46\", \"47\", \"51\"], \"mode\": \"lines\", \"name\": \"precision_score_micro_max\", \"stepped\": true, \"type\": \"scatter\", \"data\": [0.84375, 0.84375, 0.84375, 0.84375, 0.8526785714285714, 0.8526785714285714, 0.8571428571428571, 0.8571428571428571, 0.8571428571428571, 0.8571428571428571, 0.8571428571428571, 0.8571428571428571, 0.8571428571428571, 0.8571428571428571, 0.8571428571428571, 0.8571428571428571, 0.8571428571428571, 0.8571428571428571, 0.8571428571428571, 0.8571428571428571, 0.8571428571428571, 0.8571428571428571, 0.8571428571428571, 0.8571428571428571, 0.8571428571428571, 0.8571428571428571, 0.8660714285714286]}], \"matthews_correlation\": [{\"categories\": [\"0\", \"9\", \"17\", \"21\", \"22\", \"24\", \"27\", \"28\", \"29\", \"31\", \"32\", \"33\", \"34\", \"35\", \"36\", \"37\", \"38\", \"39\", \"40\", \"41\", \"42\", \"43\", \"44\", \"45\", \"46\", \"47\", \"51\"], \"mode\": \"markers\", \"name\": \"matthews_correlation\", \"stepped\": false, \"type\": \"scatter\", \"data\": [0.6416913696496822, 0.36135447672727156, 0.5484850397319077, 0.6083810382297279, 0.6508083823107182, 0.6223068938502078, 0.6706571005118352, 0.6537252850573391, 0.6315124214200922, 0.6332633781666043, 0.6362340648134144, 0.5953539652597593, 0.6436313119006813, 0.0, 0.6215776368420042, 0.6484796377174689, 0.6209278424711439, 0.6360226577620723, 0.654542095917622, 0.6215624279606522, 0.5634826047260084, 0.6346671433427593, 0.6104252464099795, -0.0842700518347336, 0.6682254556106607, 0.6104236588878058, 0.6936534623989485]}, {\"categories\": [\"0\", \"9\", \"17\", \"21\", \"22\", \"24\", \"27\", \"28\", \"29\", \"31\", \"32\", \"33\", \"34\", \"35\", \"36\", \"37\", \"38\", \"39\", \"40\", \"41\", \"42\", \"43\", \"44\", \"45\", \"46\", \"47\", \"51\"], \"mode\": \"lines\", \"name\": \"matthews_correlation_max\", \"stepped\": true, \"type\": \"scatter\", \"data\": [0.6416913696496822, 0.6416913696496822, 0.6416913696496822, 0.6416913696496822, 0.6508083823107182, 0.6508083823107182, 0.6706571005118352, 0.6706571005118352, 0.6706571005118352, 0.6706571005118352, 0.6706571005118352, 0.6706571005118352, 0.6706571005118352, 0.6706571005118352, 0.6706571005118352, 0.6706571005118352, 0.6706571005118352, 0.6706571005118352, 0.6706571005118352, 0.6706571005118352, 0.6706571005118352, 0.6706571005118352, 0.6706571005118352, 0.6706571005118352, 0.6706571005118352, 0.6706571005118352, 0.6936534623989485]}], \"AUC_macro\": [{\"categories\": [\"0\", \"9\", \"17\", \"21\", \"22\", \"24\", \"27\", \"28\", \"29\", \"31\", \"32\", \"33\", \"34\", \"35\", \"36\", \"37\", \"38\", \"39\", \"40\", \"41\", \"42\", \"43\", \"44\", \"45\", \"46\", \"47\", \"51\"], \"mode\": \"markers\", \"name\": \"AUC_macro\", \"stepped\": false, \"type\": \"scatter\", \"data\": [0.8909226339510306, 0.8063675536040359, 0.8668938015893719, 0.8978654528260862, 0.9065407125294686, 0.9014350300818775, 0.89757671569182, 0.911743326072114, 0.8895663647595957, 0.904617144806925, 0.9105392877771952, 0.885100059286464, 0.8827832005862213, 0.5, 0.9082069070006051, 0.9010406338255923, 0.8836894756516798, 0.8922854167997576, 0.8944956776363538, 0.9087610054415337, 0.8772822848651656, 0.9117549410285178, 0.8595021205544302, 0.48504574986868365, 0.9131441323757885, 0.89420085783066, 0.9242577279664637]}, {\"categories\": [\"0\", \"9\", \"17\", \"21\", \"22\", \"24\", \"27\", \"28\", \"29\", \"31\", \"32\", \"33\", \"34\", \"35\", \"36\", \"37\", \"38\", \"39\", \"40\", \"41\", \"42\", \"43\", \"44\", \"45\", \"46\", \"47\", \"51\"], \"mode\": \"lines\", \"name\": \"AUC_macro_max\", \"stepped\": true, \"type\": \"scatter\", \"data\": [0.8909226339510306, 0.8909226339510306, 0.8909226339510306, 0.8978654528260862, 0.9065407125294686, 0.9065407125294686, 0.9065407125294686, 0.911743326072114, 0.911743326072114, 0.911743326072114, 0.911743326072114, 0.911743326072114, 0.911743326072114, 0.911743326072114, 0.911743326072114, 0.911743326072114, 0.911743326072114, 0.911743326072114, 0.911743326072114, 0.911743326072114, 0.911743326072114, 0.9117549410285178, 0.9117549410285178, 0.9117549410285178, 0.9131441323757885, 0.9131441323757885, 0.9242577279664637]}]}, \"metricName\": null, \"primaryMetricName\": \"accuracy\", \"showLegend\": false}, \"run_metrics\": [{\"name\": \"experiment_status\", \"run_id\": \"AutoML_032758d2-dde3-41ac-a05f-7a797dadf0d6\", \"categories\": [0, 1, 2, 3, 4, 5, 6, 7, 8, 9, 10, 11, 12, 13], \"series\": [{\"data\": [\"DatasetEvaluation\", \"FeaturesGeneration\", \"DatasetFeaturization\", \"DatasetFeaturizationCompleted\", \"DatasetCrossValidationSplit\", \"ModelSelection\", \"BestRunExplainModel\", \"ModelExplanationDataSetSetup\", \"PickSurrogateModel\", \"EngineeredFeatureExplanations\", \"EngineeredFeatureExplanations\", \"RawFeaturesExplanations\", \"RawFeaturesExplanations\", \"BestRunExplainModel\"]}]}, {\"name\": \"experiment_status_description\", \"run_id\": \"AutoML_032758d2-dde3-41ac-a05f-7a797dadf0d6\", \"categories\": [0, 1, 2, 3, 4, 5, 6, 7, 8, 9, 10, 11, 12, 13], \"series\": [{\"data\": [\"Gathering dataset statistics.\", \"Generating features for the dataset.\", \"Beginning to fit featurizers and featurize the dataset.\", \"Completed fit featurizers and featurizing the dataset.\", \"Generating individually featurized CV splits.\", \"Beginning model selection.\", \"Best run model explanations started\", \"Model explanations data setup completed\", \"Choosing LightGBM as the surrogate model for explanations\", \"Computation of engineered features started\", \"Computation of engineered features completed\", \"Computation of raw features started\", \"Computation of raw features completed\", \"Best run model explanations completed\"]}]}, {\"name\": \"f1_score_macro\", \"run_id\": \"AutoML_032758d2-dde3-41ac-a05f-7a797dadf0d6\", \"categories\": [0], \"series\": [{\"data\": [0.8435727252849746]}]}, {\"name\": \"log_loss\", \"run_id\": \"AutoML_032758d2-dde3-41ac-a05f-7a797dadf0d6\", \"categories\": [0], \"series\": [{\"data\": [0.35057482047601163]}]}, {\"name\": \"average_precision_score_micro\", \"run_id\": \"AutoML_032758d2-dde3-41ac-a05f-7a797dadf0d6\", \"categories\": [0], \"series\": [{\"data\": [0.9294155586125372]}]}, {\"name\": \"AUC_macro\", \"run_id\": \"AutoML_032758d2-dde3-41ac-a05f-7a797dadf0d6\", \"categories\": [0], \"series\": [{\"data\": [0.9242577279664637]}]}, {\"name\": \"matthews_correlation\", \"run_id\": \"AutoML_032758d2-dde3-41ac-a05f-7a797dadf0d6\", \"categories\": [0], \"series\": [{\"data\": [0.6936534623989485]}]}, {\"name\": \"recall_score_micro\", \"run_id\": \"AutoML_032758d2-dde3-41ac-a05f-7a797dadf0d6\", \"categories\": [0], \"series\": [{\"data\": [0.8660714285714286]}]}, {\"name\": \"recall_score_weighted\", \"run_id\": \"AutoML_032758d2-dde3-41ac-a05f-7a797dadf0d6\", \"categories\": [0], \"series\": [{\"data\": [0.8660714285714286]}]}, {\"name\": \"balanced_accuracy\", \"run_id\": \"AutoML_032758d2-dde3-41ac-a05f-7a797dadf0d6\", \"categories\": [0], \"series\": [{\"data\": [0.8314756501270131]}]}, {\"name\": \"f1_score_micro\", \"run_id\": \"AutoML_032758d2-dde3-41ac-a05f-7a797dadf0d6\", \"categories\": [0], \"series\": [{\"data\": [0.8660714285714286]}]}, {\"name\": \"average_precision_score_macro\", \"run_id\": \"AutoML_032758d2-dde3-41ac-a05f-7a797dadf0d6\", \"categories\": [0], \"series\": [{\"data\": [0.9072148701681123]}]}, {\"name\": \"weighted_accuracy\", \"run_id\": \"AutoML_032758d2-dde3-41ac-a05f-7a797dadf0d6\", \"categories\": [0], \"series\": [{\"data\": [0.8916485815289176]}]}, {\"name\": \"AUC_micro\", \"run_id\": \"AutoML_032758d2-dde3-41ac-a05f-7a797dadf0d6\", \"categories\": [0], \"series\": [{\"data\": [0.9298469387755102]}]}, {\"name\": \"f1_score_weighted\", \"run_id\": \"AutoML_032758d2-dde3-41ac-a05f-7a797dadf0d6\", \"categories\": [0], \"series\": [{\"data\": [0.8638490291318395]}]}, {\"name\": \"average_precision_score_weighted\", \"run_id\": \"AutoML_032758d2-dde3-41ac-a05f-7a797dadf0d6\", \"categories\": [0], \"series\": [{\"data\": [0.9267971154822277]}]}, {\"name\": \"precision_score_weighted\", \"run_id\": \"AutoML_032758d2-dde3-41ac-a05f-7a797dadf0d6\", \"categories\": [0], \"series\": [{\"data\": [0.8675107224240323]}]}, {\"name\": \"AUC_weighted\", \"run_id\": \"AutoML_032758d2-dde3-41ac-a05f-7a797dadf0d6\", \"categories\": [0], \"series\": [{\"data\": [0.9242577279664637]}]}, {\"name\": \"norm_macro_recall\", \"run_id\": \"AutoML_032758d2-dde3-41ac-a05f-7a797dadf0d6\", \"categories\": [0], \"series\": [{\"data\": [0.6629513002540262]}]}, {\"name\": \"precision_score_micro\", \"run_id\": \"AutoML_032758d2-dde3-41ac-a05f-7a797dadf0d6\", \"categories\": [0], \"series\": [{\"data\": [0.8660714285714286]}]}, {\"name\": \"precision_score_macro\", \"run_id\": \"AutoML_032758d2-dde3-41ac-a05f-7a797dadf0d6\", \"categories\": [0], \"series\": [{\"data\": [0.863040133316296]}]}, {\"name\": \"accuracy\", \"run_id\": \"AutoML_032758d2-dde3-41ac-a05f-7a797dadf0d6\", \"categories\": [0], \"series\": [{\"data\": [0.8660714285714286]}]}, {\"name\": \"recall_score_macro\", \"run_id\": \"AutoML_032758d2-dde3-41ac-a05f-7a797dadf0d6\", \"categories\": [0], \"series\": [{\"data\": [0.8314756501270131]}]}], \"run_logs\": \"\\nRun is completed.\", \"graph\": {}, \"widget_settings\": {\"childWidgetDisplay\": \"popup\", \"send_telemetry\": false, \"log_level\": \"INFO\", \"sdk_version\": \"1.48.0\"}, \"loading\": false}"
          },
          "metadata": {}
        },
        {
          "output_type": "display_data",
          "data": {
            "text/plain": "<IPython.core.display.HTML object>",
            "text/html": "<table style=\"width:100%\"><tr><th>Experiment</th><th>Id</th><th>Type</th><th>Status</th><th>Details Page</th><th>Docs Page</th></tr><tr><td>CapstoneProject</td><td>AutoML_032758d2-dde3-41ac-a05f-7a797dadf0d6</td><td>automl</td><td>Completed</td><td><a href=\"https://ml.azure.com/runs/AutoML_032758d2-dde3-41ac-a05f-7a797dadf0d6?wsid=/subscriptions/779ddc6a-162c-43db-9f05-edaaa1cde3ba/resourcegroups/rg-preview-features/workspaces/feature-test&amp;tid=ce849bab-cc1c-465b-b62e-18f07c9ac198\" target=\"_blank\" rel=\"noopener\">Link to Azure Machine Learning studio</a></td><td><a href=\"https://docs.microsoft.com/en-us/python/api/overview/azure/ml/intro?view=azure-ml-py\" target=\"_blank\" rel=\"noopener\">Link to Documentation</a></td></tr></table>"
          },
          "metadata": {}
        },
        {
          "output_type": "stream",
          "name": "stdout",
          "text": "\n\n********************************************************************************************\nDATA GUARDRAILS: \n\nTYPE:         Class balancing detection\nSTATUS:       PASSED\nDESCRIPTION:  Your inputs were analyzed, and all classes are balanced in your training data.\n              Learn more about imbalanced data: https://aka.ms/AutomatedMLImbalancedData\n\n********************************************************************************************\n\nTYPE:         Missing feature values imputation\nSTATUS:       PASSED\nDESCRIPTION:  No feature missing values were detected in the training data.\n              Learn more about missing value imputation: https://aka.ms/AutomatedMLFeaturization\n\n********************************************************************************************\n\nTYPE:         High cardinality feature detection\nSTATUS:       PASSED\nDESCRIPTION:  Your inputs were analyzed, and no high cardinality features were detected.\n              Learn more about high cardinality feature handling: https://aka.ms/AutomatedMLFeaturization\n\n********************************************************************************************\n\n********************************************************************************************\nITER: The iteration being evaluated.\nPIPELINE: A summary description of the pipeline being evaluated.\nDURATION: Time taken for the current iteration.\nMETRIC: The result of computing score on the fitted pipeline.\nBEST: The best observed score thus far.\n********************************************************************************************\n\n ITER   PIPELINE                                       DURATION            METRIC      BEST\n    0   MaxAbsScaler LightGBM                          0:00:16             0.8438    0.8438\n    1   MaxAbsScaler XGBoostClassifier                 0:00:14             0.8393    0.8438\n    2   MaxAbsScaler ExtremeRandomTrees                0:00:15             0.8080    0.8438\n    3   SparseNormalizer XGBoostClassifier             0:00:17             0.8170    0.8438\n    4   StandardScalerWrapper KNN                      0:00:15             0.6027    0.8438\n    5   MaxAbsScaler LightGBM                          0:00:13             0.8438    0.8438\n    6   RobustScaler LogisticRegression                0:00:14             0.7946    0.8438\n    7   MaxAbsScaler LightGBM                          0:00:17             0.8259    0.8438\n    8   StandardScalerWrapper KNN                      0:00:13             0.5759    0.8438\n    9   StandardScalerWrapper SVM                      0:00:13             0.7321    0.8438\n   10   StandardScalerWrapper XGBoostClassifier        0:00:15             0.8080    0.8438\n   11   MinMaxScaler RandomForest                      0:00:17             0.8348    0.8438\n   12   StandardScalerWrapper LogisticRegression       0:00:14             0.7232    0.8438\n   13   StandardScalerWrapper KNN                      0:00:13             0.6964    0.8438\n   14   RobustScaler KNN                               0:00:14             0.6830    0.8438\n   15   MinMaxScaler KNN                               0:00:15             0.6830    0.8438\n   16   SparseNormalizer KNN                           0:00:09             0.7679    0.8438\n   17   MaxAbsScaler LogisticRegression                0:00:09             0.8080    0.8438\n   18   StandardScalerWrapper XGBoostClassifier        0:00:09             0.8304    0.8438\n   19   StandardScalerWrapper XGBoostClassifier        0:00:09             0.8304    0.8438\n   20   MaxAbsScaler LogisticRegression                0:01:27             0.8259    0.8438\n   21   StandardScalerWrapper XGBoostClassifier        0:01:27             0.8304    0.8438\n   22   SparseNormalizer RandomForest                  0:02:00             0.8527    0.8527\n   23   StandardScalerWrapper RandomForest             0:02:00             0.8259    0.8527\n   24   StandardScalerWrapper LightGBM                 0:02:00             0.8348    0.8527\n   25   SparseNormalizer XGBoostClassifier             0:00:25             0.8571    0.8571\n   26   MinMaxScaler LightGBM                          0:02:00             0.8304    0.8571\n   27   SparseNormalizer XGBoostClassifier             0:02:00             0.8571    0.8571\n   28   RobustScaler RandomForest                      0:02:00             0.8482    0.8571\n   29   StandardScalerWrapper RandomForest             0:01:24             0.8393    0.8571\n   30   SparseNormalizer XGBoostClassifier             0:01:24             0.8393    0.8571\n   31   SparseNormalizer XGBoostClassifier             0:02:00             0.8438    0.8571\n   32   RobustScaler LightGBM                          0:02:00             0.8438    0.8571\n   33   SparseNormalizer XGBoostClassifier             0:02:00             0.8259    0.8571\n   34   MinMaxScaler LightGBM                          0:02:00             0.8438    0.8571\n   35   PCA XGBoostClassifier                          0:02:00             0.6696    0.8571\n   36   StandardScalerWrapper XGBoostClassifier        0:02:00             0.8348    0.8571\n   37   StandardScalerWrapper XGBoostClassifier        0:02:00             0.8482    0.8571\n   38   StandardScalerWrapper XGBoostClassifier        0:02:00             0.8348    0.8571\n   39   StandardScalerWrapper LightGBM                 0:02:00             0.8438    0.8571\n   40   SparseNormalizer XGBoostClassifier             0:02:00             0.8527    0.8571\n   41   MinMaxScaler RandomForest                      0:02:00             0.8348    0.8571\n   42   StandardScalerWrapper ExtremeRandomTrees       0:01:37             0.8125    0.8571\n   43   StandardScalerWrapper XGBoostClassifier        0:02:01             0.8393    0.8571\n   44   StandardScalerWrapper RandomForest             0:02:00             0.8304    0.8571\n   45   PCA XGBoostClassifier                          0:02:00             0.6339    0.8571\n   46   MaxAbsScaler RandomForest                      0:02:00             0.8527    0.8571\n   47   MinMaxScaler LightGBM                          0:00:31             0.8304    0.8571\n   48                                                  0:01:03                nan    0.8571\n   49                                                  0:01:03                nan    0.8571\n   50                                                  0:00:01                nan    0.8571\n   51    VotingEnsemble                                0:02:00             0.8661    0.8661\n   52    StackEnsemble                                 0:02:00             0.8438    0.8661\n"
        },
        {
          "output_type": "execute_result",
          "execution_count": 8,
          "data": {
            "text/plain": "{'runId': 'AutoML_032758d2-dde3-41ac-a05f-7a797dadf0d6',\n 'target': 'cpu-compute',\n 'status': 'Completed',\n 'startTimeUtc': '2023-04-23T10:32:03.922593Z',\n 'endTimeUtc': '2023-04-23T10:56:03.721515Z',\n 'services': {},\n 'warnings': [{'source': 'JasmineService',\n   'message': 'No scores improved over last 10 iterations, so experiment stopped early. This early stopping behavior can be disabled by setting enable_early_stopping = False in AutoMLConfig for notebook/python SDK runs.'}],\n 'properties': {'num_iterations': '1000',\n  'training_type': 'TrainFull',\n  'acquisition_function': 'EI',\n  'primary_metric': 'accuracy',\n  'train_split': '0',\n  'acquisition_parameter': '0',\n  'num_cross_validation': '4',\n  'target': 'cpu-compute',\n  'AMLSettingsJsonString': '{\"path\":null,\"name\":\"CapstoneProject\",\"subscription_id\":\"779ddc6a-162c-43db-9f05-edaaa1cde3ba\",\"resource_group\":\"rg-preview-features\",\"workspace_name\":\"feature-test\",\"region\":\"germanywestcentral\",\"compute_target\":\"cpu-compute\",\"spark_service\":null,\"azure_service\":\"remote\",\"many_models\":false,\"pipeline_fetch_max_batch_size\":1,\"enable_batch_run\":true,\"enable_parallel_run\":false,\"num_procs\":null,\"enable_run_restructure\":false,\"start_auxiliary_runs_before_parent_complete\":false,\"enable_code_generation\":true,\"iterations\":1000,\"primary_metric\":\"accuracy\",\"task_type\":\"classification\",\"positive_label\":null,\"data_script\":null,\"test_size\":0.0,\"test_include_predictions_only\":false,\"validation_size\":0.0,\"n_cross_validations\":4,\"y_min\":null,\"y_max\":null,\"num_classes\":null,\"featurization\":\"auto\",\"_ignore_package_version_incompatibilities\":false,\"is_timeseries\":false,\"max_cores_per_iteration\":1,\"max_concurrent_iterations\":5,\"iteration_timeout_minutes\":null,\"mem_in_mb\":null,\"enforce_time_on_windows\":false,\"experiment_timeout_minutes\":45,\"experiment_exit_score\":null,\"partition_column_names\":null,\"whitelist_models\":null,\"blacklist_algos\":[\"TensorFlowLinearClassifier\",\"TensorFlowDNN\"],\"supported_models\":[\"LinearSVM\",\"TensorFlowLinearClassifier\",\"SGD\",\"MultinomialNaiveBayes\",\"KNN\",\"DecisionTree\",\"LogisticRegression\",\"XGBoostClassifier\",\"RandomForest\",\"GradientBoosting\",\"LightGBM\",\"ExtremeRandomTrees\",\"SVM\",\"BernoulliNaiveBayes\",\"AveragedPerceptronClassifier\",\"TabnetClassifier\",\"TensorFlowDNN\"],\"private_models\":[],\"auto_blacklist\":true,\"blacklist_samples_reached\":false,\"exclude_nan_labels\":true,\"verbosity\":20,\"_debug_log\":\"azureml_automl.log\",\"show_warnings\":false,\"model_explainability\":true,\"service_url\":null,\"sdk_url\":null,\"sdk_packages\":null,\"enable_onnx_compatible_models\":false,\"enable_split_onnx_featurizer_estimator_models\":false,\"vm_type\":\"STANDARD_E4DS_V4\",\"telemetry_verbosity\":20,\"send_telemetry\":true,\"enable_dnn\":false,\"scenario\":\"AutoML\",\"environment_label\":null,\"save_mlflow\":false,\"enable_categorical_indicators\":false,\"force_text_dnn\":false,\"enable_feature_sweeping\":true,\"enable_early_stopping\":true,\"early_stopping_n_iters\":10,\"arguments\":null,\"dataset_id\":\"fc37b172-c0b9-4ba3-b6d8-99ffb82e8df2\",\"hyperdrive_config\":null,\"validation_dataset_id\":null,\"run_source\":null,\"metrics\":null,\"enable_metric_confidence\":false,\"enable_ensembling\":true,\"enable_stack_ensembling\":true,\"ensemble_iterations\":15,\"enable_tf\":false,\"enable_subsampling\":null,\"subsample_seed\":null,\"enable_nimbusml\":false,\"enable_streaming\":false,\"force_streaming\":false,\"track_child_runs\":true,\"n_best_runs\":1,\"allowed_private_models\":[],\"label_column_name\":\"DEATH_EVENT\",\"weight_column_name\":null,\"cv_split_column_names\":null,\"enable_local_managed\":false,\"_local_managed_run_id\":null,\"cost_mode\":1,\"lag_length\":0,\"metric_operation\":\"maximize\",\"preprocess\":true}',\n  'DataPrepJsonString': '{\\\\\"training_data\\\\\": {\\\\\"datasetId\\\\\": \\\\\"fc37b172-c0b9-4ba3-b6d8-99ffb82e8df2\\\\\"}, \\\\\"datasets\\\\\": 0}',\n  'EnableSubsampling': None,\n  'runTemplate': 'AutoML',\n  'azureml.runsource': 'automl',\n  'display_task_type': 'classification',\n  'dependencies_versions': '{\"azureml-widgets\": \"1.48.0\", \"azureml-training-tabular\": \"1.48.0\", \"azureml-train\": \"1.48.0\", \"azureml-train-restclients-hyperdrive\": \"1.48.0\", \"azureml-train-core\": \"1.48.0\", \"azureml-train-automl\": \"1.48.0\", \"azureml-train-automl-runtime\": \"1.48.0\", \"azureml-train-automl-client\": \"1.48.0\", \"azureml-tensorboard\": \"1.48.0\", \"azureml-telemetry\": \"1.48.0\", \"azureml-sdk\": \"1.48.0\", \"azureml-samples\": \"0+unknown\", \"azureml-responsibleai\": \"1.48.0\", \"azureml-pipeline\": \"1.48.0\", \"azureml-pipeline-steps\": \"1.48.0\", \"azureml-pipeline-core\": \"1.48.0\", \"azureml-opendatasets\": \"1.48.0\", \"azureml-mlflow\": \"1.48.0\", \"azureml-interpret\": \"1.48.0\", \"azureml-inference-server-http\": \"0.7.7\", \"azureml-explain-model\": \"1.48.0\", \"azureml-defaults\": \"1.48.0\", \"azureml-dataset-runtime\": \"1.48.0\", \"azureml-dataprep\": \"4.8.3\", \"azureml-dataprep-rslex\": \"2.15.1\", \"azureml-dataprep-native\": \"38.0.0\", \"azureml-datadrift\": \"1.48.0\", \"azureml-core\": \"1.48.0\", \"azureml-contrib-services\": \"1.48.0\", \"azureml-contrib-server\": \"1.48.0\", \"azureml-contrib-reinforcementlearning\": \"1.48.0\", \"azureml-contrib-pipeline-steps\": \"1.48.0\", \"azureml-contrib-notebook\": \"1.48.0\", \"azureml-contrib-fairness\": \"1.48.0\", \"azureml-contrib-dataset\": \"1.48.0\", \"azureml-contrib-automl-pipeline-steps\": \"1.48.0\", \"azureml-cli-common\": \"1.48.0\", \"azureml-automl-runtime\": \"1.48.0.post1\", \"azureml-automl-dnn-nlp\": \"1.48.0\", \"azureml-automl-core\": \"1.48.0\", \"azureml-accel-models\": \"1.48.0\"}',\n  '_aml_system_scenario_identification': 'Remote.Parent',\n  'ClientType': 'SDK',\n  'PlatformVersion': 'DPV1',\n  'environment_cpu_name': 'AzureML-AutoML',\n  'environment_cpu_label': 'nimbus-deprecation',\n  'environment_gpu_name': 'AzureML-AutoML-GPU',\n  'environment_gpu_label': 'prod',\n  'root_attribution': 'automl',\n  'attribution': 'AutoML',\n  'Orchestrator': 'AutoML',\n  'CancelUri': 'https://germanywestcentral.api.azureml.ms/jasmine/v1.0/subscriptions/779ddc6a-162c-43db-9f05-edaaa1cde3ba/resourceGroups/rg-preview-features/providers/Microsoft.MachineLearningServices/workspaces/feature-test/experimentids/d467e227-930b-494b-b154-8b59d0c1e8ea/cancel/AutoML_032758d2-dde3-41ac-a05f-7a797dadf0d6',\n  'ClientSdkVersion': '1.48.0.post2',\n  'snapshotId': '00000000-0000-0000-0000-000000000000',\n  'SetupRunId': 'AutoML_032758d2-dde3-41ac-a05f-7a797dadf0d6_setup',\n  'SetupRunContainerId': 'dcid.AutoML_032758d2-dde3-41ac-a05f-7a797dadf0d6_setup',\n  'FeaturizationRunJsonPath': 'featurizer_container.json',\n  'FeaturizationRunId': 'AutoML_032758d2-dde3-41ac-a05f-7a797dadf0d6_featurize',\n  'ProblemInfoJsonString': '{\"dataset_num_categorical\": 0, \"is_sparse\": false, \"subsampling\": false, \"has_extra_col\": true, \"dataset_classes\": 2, \"dataset_features\": 12, \"dataset_samples\": 224, \"single_frequency_class_detected\": false}',\n  'ModelExplainRunId': 'AutoML_032758d2-dde3-41ac-a05f-7a797dadf0d6_ModelExplain'},\n 'inputDatasets': [{'dataset': {'id': 'fc37b172-c0b9-4ba3-b6d8-99ffb82e8df2'}, 'consumptionDetails': {'type': 'RunInput', 'inputName': 'training_data', 'mechanism': 'Direct'}}],\n 'outputDatasets': [{'identifier': {'savedId': 'd8c8de96-bc87-4994-8cbb-2463025122bb'},\n   'outputType': 'RunOutput',\n   'outputDetails': {'outputName': 'full_training_dataset'},\n   'dataset': {\n     \"source\": [\n       \"('workspaceartifactstore', 'ExperimentRun/dcid.AutoML_032758d2-dde3-41ac-a05f-7a797dadf0d6/outputs/featurization/data/full_training_dataset.df.parquet')\"\n     ],\n     \"definition\": [\n       \"GetDatastoreFiles\",\n       \"ReadParquetFile\",\n       \"DropColumns\"\n     ],\n     \"registration\": {\n       \"id\": \"d8c8de96-bc87-4994-8cbb-2463025122bb\",\n       \"name\": null,\n       \"version\": null,\n       \"workspace\": \"Workspace.create(name='feature-test', subscription_id='779ddc6a-162c-43db-9f05-edaaa1cde3ba', resource_group='rg-preview-features')\"\n     }\n   }}],\n 'logFiles': {},\n 'submittedBy': 'Prajwal Nagaraja'}"
          },
          "metadata": {}
        }
      ],
      "execution_count": 8,
      "metadata": {
        "gather": {
          "logged": 1682247710529
        },
        "jupyter": {
          "outputs_hidden": false,
          "source_hidden": false
        },
        "nteract": {
          "transient": {
            "deleting": false
          }
        }
      }
    },
    {
      "cell_type": "markdown",
      "source": [
        "## Best Model\n",
        "\n",
        "TODO: In the cell below, get the best model from the automl experiments and display all the properties of the model.\n",
        "\n"
      ],
      "metadata": {}
    },
    {
      "cell_type": "code",
      "source": [
        "# Retrieve and save your best automl model.\n",
        "best_remote_run,best_automl_model=remote_run.get_output()\n",
        "best_run_metrics=remote_run.get_metrics()\n",
        "for primary_metric in best_run_metrics:\n",
        "    metric=best_run_metrics[primary_metric]\n",
        "    print(primary_metric,metric)\n",
        "\n",
        "\n",
        "print(best_remote_run)\n",
        "best_remote_run"
      ],
      "outputs": [
        {
          "output_type": "stream",
          "name": "stdout",
          "text": "experiment_status ['DatasetEvaluation', 'FeaturesGeneration', 'DatasetFeaturization', 'DatasetFeaturizationCompleted', 'DatasetCrossValidationSplit', 'ModelSelection', 'BestRunExplainModel', 'ModelExplanationDataSetSetup', 'PickSurrogateModel', 'EngineeredFeatureExplanations', 'EngineeredFeatureExplanations', 'RawFeaturesExplanations', 'RawFeaturesExplanations', 'BestRunExplainModel']\nexperiment_status_description ['Gathering dataset statistics.', 'Generating features for the dataset.', 'Beginning to fit featurizers and featurize the dataset.', 'Completed fit featurizers and featurizing the dataset.', 'Generating individually featurized CV splits.', 'Beginning model selection.', 'Best run model explanations started', 'Model explanations data setup completed', 'Choosing LightGBM as the surrogate model for explanations', 'Computation of engineered features started', 'Computation of engineered features completed', 'Computation of raw features started', 'Computation of raw features completed', 'Best run model explanations completed']\nf1_score_macro 0.8435727252849746\nlog_loss 0.35057482047601163\naverage_precision_score_micro 0.9294155586125372\nAUC_macro 0.9242577279664637\nmatthews_correlation 0.6936534623989485\nrecall_score_micro 0.8660714285714286\nrecall_score_weighted 0.8660714285714286\nbalanced_accuracy 0.8314756501270131\nf1_score_micro 0.8660714285714286\naverage_precision_score_macro 0.9072148701681123\nweighted_accuracy 0.8916485815289176\nAUC_micro 0.9298469387755102\nf1_score_weighted 0.8638490291318395\naverage_precision_score_weighted 0.9267971154822277\nprecision_score_weighted 0.8675107224240323\nAUC_weighted 0.9242577279664637\nnorm_macro_recall 0.6629513002540262\nprecision_score_micro 0.8660714285714286\nprecision_score_macro 0.863040133316296\naccuracy 0.8660714285714286\nrecall_score_macro 0.8314756501270131\nRun(Experiment: CapstoneProject,\nId: AutoML_032758d2-dde3-41ac-a05f-7a797dadf0d6_51,\nType: azureml.scriptrun,\nStatus: Completed)\n"
        },
        {
          "output_type": "execute_result",
          "execution_count": 9,
          "data": {
            "text/plain": "Run(Experiment: CapstoneProject,\nId: AutoML_032758d2-dde3-41ac-a05f-7a797dadf0d6_51,\nType: azureml.scriptrun,\nStatus: Completed)",
            "text/html": "<table style=\"width:100%\"><tr><th>Experiment</th><th>Id</th><th>Type</th><th>Status</th><th>Details Page</th><th>Docs Page</th></tr><tr><td>CapstoneProject</td><td>AutoML_032758d2-dde3-41ac-a05f-7a797dadf0d6_51</td><td>azureml.scriptrun</td><td>Completed</td><td><a href=\"https://ml.azure.com/runs/AutoML_032758d2-dde3-41ac-a05f-7a797dadf0d6_51?wsid=/subscriptions/779ddc6a-162c-43db-9f05-edaaa1cde3ba/resourcegroups/rg-preview-features/workspaces/feature-test&amp;tid=ce849bab-cc1c-465b-b62e-18f07c9ac198\" target=\"_blank\" rel=\"noopener\">Link to Azure Machine Learning studio</a></td><td><a href=\"https://docs.microsoft.com/en-us/python/api/azureml-core/azureml.core.run.Run?view=azure-ml-py\" target=\"_blank\" rel=\"noopener\">Link to Documentation</a></td></tr></table>"
          },
          "metadata": {}
        }
      ],
      "execution_count": 9,
      "metadata": {
        "gather": {
          "logged": 1682247721372
        },
        "jupyter": {
          "outputs_hidden": false,
          "source_hidden": false
        },
        "nteract": {
          "transient": {
            "deleting": false
          }
        }
      }
    },
    {
      "cell_type": "code",
      "source": [
        "import pickle\n",
        "best_remote_run,best_automl_model=remote_run.get_output()\n",
        "#joblib.dump(value=best_automl_model,filename='automl_model.joblib')\n",
        "pkl_filename = \"automl_model.pkl\"\n",
        "with open(pkl_filename,'wb') as f:\n",
        "    pickle.dump(best_automl_model,f)"
      ],
      "outputs": [],
      "execution_count": 10,
      "metadata": {
        "gather": {
          "logged": 1682247731343
        },
        "jupyter": {
          "outputs_hidden": false,
          "source_hidden": false
        },
        "nteract": {
          "transient": {
            "deleting": false
          }
        }
      }
    },
    {
      "cell_type": "markdown",
      "source": [
        "## Model Deployment\n",
        "\n",
        "Remember you have to deploy only one of the two models you trained but you still need to register both the models. Perform the steps in the rest of this notebook only if you wish to deploy this model.\n",
        "\n",
        "TODO: In the cell below, register the model, create an inference config and deploy the model as a web service."
      ],
      "metadata": {}
    },
    {
      "cell_type": "code",
      "source": [
        "from azureml.core.model import Model\n",
        "# Register model\n",
        "model = Model.register(workspace = ws,\n",
        "                        model_name = \"Heart_failure_prediction_model\",\n",
        "                        model_path = \"./automl_model.pkl\",\n",
        "                        description = \"Best AutoML Model\",)"
      ],
      "outputs": [
        {
          "output_type": "stream",
          "name": "stdout",
          "text": "Registering model Heart_failure_prediction_model\n"
        }
      ],
      "execution_count": 11,
      "metadata": {
        "gather": {
          "logged": 1682247752699
        },
        "jupyter": {
          "outputs_hidden": false,
          "source_hidden": false
        },
        "nteract": {
          "transient": {
            "deleting": false
          }
        }
      }
    },
    {
      "cell_type": "markdown",
      "source": [
        "TODO: In the cell below, send a request to the web service you deployed to test it."
      ],
      "metadata": {
        "collapsed": true,
        "gather": {
          "logged": 1598431657736
        },
        "jupyter": {
          "outputs_hidden": false,
          "source_hidden": false
        },
        "nteract": {
          "transient": {
            "deleting": false
          }
        }
      }
    },
    {
      "cell_type": "code",
      "source": [
        "%%writefile amlscore.py\n",
        "import json\n",
        "import numpy as np\n",
        "import os\n",
        "import pickle\n",
        "import joblib\n",
        "import pandas as pd\n",
        "from azureml.core.model import Model\n",
        "\n",
        "def init():\n",
        "    global model\n",
        "    model_path = Model.get_model_path(\"automl\")\n",
        "    model = joblib.load(model_path)\n",
        "\n",
        "def run(raw_data):\n",
        "    try:\n",
        "        data = json.loads(raw_data)['data']\n",
        "        data = pd.DataFrame.from_dict(data)\n",
        "        # make prediction\n",
        "        result = model.predict(data)\n",
        "        return result.tolist()\n",
        "    except Exception as ex:\n",
        "        error = str(ex)\n",
        "        return error"
      ],
      "outputs": [
        {
          "output_type": "stream",
          "name": "stdout",
          "text": "Overwriting amlscore.py\n"
        }
      ],
      "execution_count": 12,
      "metadata": {
        "gather": {
          "logged": 1598432707604
        },
        "jupyter": {
          "outputs_hidden": false,
          "source_hidden": false
        },
        "nteract": {
          "transient": {
            "deleting": false
          }
        }
      }
    },
    {
      "cell_type": "markdown",
      "source": [
        "TODO: In the cell below, print the logs of the web service and delete the service"
      ],
      "metadata": {
        "collapsed": true,
        "gather": {
          "logged": 1598432765711
        },
        "jupyter": {
          "outputs_hidden": false,
          "source_hidden": false
        },
        "nteract": {
          "transient": {
            "deleting": false
          }
        }
      }
    },
    {
      "cell_type": "code",
      "source": [
        "from azureml.automl.core.shared import constants\n",
        "best_remote_run.download_file(constants.CONDA_ENV_FILE_PATH, 'azureml-automl.yml')\n"
      ],
      "outputs": [],
      "execution_count": 13,
      "metadata": {
        "jupyter": {
          "outputs_hidden": false,
          "source_hidden": false
        },
        "nteract": {
          "transient": {
            "deleting": false
          }
        },
        "gather": {
          "logged": 1682247774894
        }
      }
    },
    {
      "cell_type": "code",
      "source": [
        "# create inference_config\n",
        "from azureml.core.model import InferenceConfig\n",
        "from azureml.core.environment import Environment\n",
        "\n",
        "inference_config = InferenceConfig(entry_script=\"scoring.py\")"
      ],
      "outputs": [],
      "execution_count": 14,
      "metadata": {
        "jupyter": {
          "source_hidden": false,
          "outputs_hidden": false
        },
        "nteract": {
          "transient": {
            "deleting": false
          }
        },
        "gather": {
          "logged": 1682247779059
        }
      }
    },
    {
      "cell_type": "code",
      "source": [
        "from azureml.core.webservice import Webservice, AciWebservice\n",
        "deployment_config = AciWebservice.deploy_configuration(cpu_cores=1, memory_gb = 1)\n",
        "print(deployment_config)"
      ],
      "outputs": [
        {
          "output_type": "stream",
          "name": "stdout",
          "text": "<azureml.core.webservice.aci.AciServiceDeploymentConfiguration object at 0x7f652f74dfd0>\n"
        }
      ],
      "execution_count": 15,
      "metadata": {
        "jupyter": {
          "source_hidden": false,
          "outputs_hidden": false
        },
        "nteract": {
          "transient": {
            "deleting": false
          }
        },
        "gather": {
          "logged": 1682247783524
        }
      }
    },
    {
      "cell_type": "code",
      "source": [
        "best_remote_run, model = remote_run.get_output()\n",
        "best_remote_run_metrics = best_remote_run.get_metrics()\n",
        "\n",
        "print(model)\n",
        "print('Best Run Id: ', best_remote_run.id)\n",
        "print('\\n Accuracy:', best_remote_run_metrics['accuracy'])"
      ],
      "outputs": [
        {
          "output_type": "stream",
          "name": "stdout",
          "text": "Pipeline(memory=None,\n         steps=[('datatransformer',\n                 DataTransformer(enable_dnn=False, enable_feature_sweeping=True, feature_sweeping_config={}, feature_sweeping_timeout=86400, featurization_config=None, force_text_dnn=False, is_cross_validation=True, is_onnx_compatible=False, observer=None, task='classification', working_dir='/mnt/batch/tasks/shared/LS_root/mount...\n                 PreFittedSoftVotingClassifier(classification_labels=array([0, 1]), estimators=[('25', Pipeline(memory=None, steps=[('sparsenormalizer', Normalizer(copy=True, norm='l1')), ('xgboostclassifier', XGBoostClassifier(booster='gbtree', colsample_bylevel=1, colsample_bytree=1, eta=0.5, gamma=0.01, max_depth=7, max_leaves=15, n_estimators=100, n_jobs=1, objective='reg:logistic', problem_info=ProblemInfo(gpu_training_param_dict={'processing_unit_type': 'cpu'}), random_state=0, reg_alpha=0.5208333333333334, reg_lambda=2.291666666666667, subsample=1, tree_method='auto'))], verbose=False)), ('27', Pipeline(memory=None, steps=[('sparsenormalizer', Normalizer(copy=True, norm='l1')), ('xgboostclassifier', XGBoostClassifier(booster='gbtree', colsample_bytree=1, eta=0.4, gamma=0.1, max_depth=10, max_leaves=127, n_estimators=50, n_jobs=1, objective='reg:logistic', problem_info=ProblemInfo(gpu_training_param_dict={'processing_unit_type': 'cpu'}), random_state=0, reg_alpha=0.8333333333333334, reg_lambda=1.1458333333333335, subsample=0.8, tree_method='auto'))], verbose=False)), ('46', Pipeline(memory=None, steps=[('maxabsscaler', MaxAbsScaler(copy=True)), ('randomforestclassifier', RandomForestClassifier(bootstrap=True, ccp_alpha=0.0, class_weight='balanced', criterion='entropy', max_depth=None, max_features=0.9, max_leaf_nodes=None, max_samples=None, min_impurity_decrease=0.0, min_impurity_split=None, min_samples_leaf=0.06157894736842105, min_samples_split=0.10368421052631578, min_weight_fraction_leaf=0.0, n_estimators=50, n_jobs=1, oob_score=False, random_state=None, verbose=0, warm_start=False))], verbose=False)), ('40', Pipeline(memory=None, steps=[('sparsenormalizer', Normalizer(copy=True, norm='l2')), ('xgboostclassifier', XGBoostClassifier(booster='gbtree', colsample_bytree=0.6, eta=0.2, gamma=0.1, max_depth=8, max_leaves=0, n_estimators=600, n_jobs=1, objective='reg:logistic', problem_info=ProblemInfo(gpu_training_param_dict={'processing_unit_type': 'cpu'}), random_state=0, reg_alpha=0.8333333333333334, reg_lambda=1.7708333333333335, subsample=0.8, tree_method='auto'))], verbose=False)), ('22', Pipeline(memory=None, steps=[('sparsenormalizer', Normalizer(copy=True, norm='l2')), ('randomforestclassifier', RandomForestClassifier(bootstrap=True, ccp_alpha=0.0, class_weight='balanced', criterion='gini', max_depth=None, max_features='sqrt', max_leaf_nodes=None, max_samples=None, min_impurity_decrease=0.0, min_impurity_split=None, min_samples_leaf=0.01, min_samples_split=0.01, min_weight_fraction_leaf=0.0, n_estimators=100, n_jobs=1, oob_score=True, random_state=None, verbose=0, warm_start=False))], verbose=False)), ('38', Pipeline(memory=None, steps=[('standardscalerwrapper', StandardScalerWrapper(copy=True, with_mean=False, with_std=False)), ('xgboostclassifier', XGBoostClassifier(booster='gbtree', colsample_bylevel=0.8, colsample_bytree=1, eta=0.1, gamma=0, grow_policy='lossguide', max_bin=255, max_depth=9, max_leaves=0, n_estimators=10, n_jobs=1, objective='reg:logistic', problem_info=ProblemInfo(gpu_training_param_dict={'processing_unit_type': 'cpu'}), random_state=0, reg_alpha=1.9791666666666667, reg_lambda=1.5625, subsample=1, tree_method='hist'))], verbose=False))], flatten_transform=None, weights=[0.16666666666666666, 0.16666666666666666, 0.16666666666666666, 0.16666666666666666, 0.16666666666666666, 0.16666666666666666]))],\n         verbose=False)\nBest Run Id:  AutoML_032758d2-dde3-41ac-a05f-7a797dadf0d6_51\n\n Accuracy: 0.8660714285714286\n"
        }
      ],
      "execution_count": 16,
      "metadata": {
        "jupyter": {
          "source_hidden": false,
          "outputs_hidden": false
        },
        "nteract": {
          "transient": {
            "deleting": false
          }
        },
        "gather": {
          "logged": 1682247793338
        }
      }
    },
    {
      "cell_type": "code",
      "source": [
        "import joblib\n",
        "joblib.dump(model,'outputs/automl_model.pkl')\n",
        "print(best_remote_run.get_tags())"
      ],
      "outputs": [
        {
          "output_type": "stream",
          "name": "stdout",
          "text": "{'_aml_system_azureml.automlComponent': 'AutoML', '_aml_system_ComputeTargetStatus': '{\"AllocationState\":\"steady\",\"PreparingNodeCount\":0,\"RunningNodeCount\":0,\"CurrentNodeCount\":1}', 'mlflow.source.type': 'JOB', 'mlflow.source.name': 'automl_driver.py', '_aml_system_codegen': 'completed', '_aml_system_automl_is_child_run_end_telemetry_event_logged': 'True', 'model_explain_run_id': 'AutoML_032758d2-dde3-41ac-a05f-7a797dadf0d6_ModelExplain', 'model_explanation': 'True'}\n"
        }
      ],
      "execution_count": 17,
      "metadata": {
        "jupyter": {
          "source_hidden": false,
          "outputs_hidden": false
        },
        "nteract": {
          "transient": {
            "deleting": false
          }
        },
        "gather": {
          "logged": 1682247798912
        }
      }
    },
    {
      "cell_type": "code",
      "source": [
        "from azureml.core.model import Model\n",
        "\n",
        "model = Model.register(workspace = ws,\n",
        "                        model_path =\"outputs/automl_model.pkl\",\n",
        "                        model_name = \"automl\")"
      ],
      "outputs": [
        {
          "output_type": "stream",
          "name": "stdout",
          "text": "Registering model automl\n"
        }
      ],
      "execution_count": 18,
      "metadata": {
        "jupyter": {
          "source_hidden": false,
          "outputs_hidden": false
        },
        "nteract": {
          "transient": {
            "deleting": false
          }
        },
        "gather": {
          "logged": 1682247813057
        }
      }
    },
    {
      "cell_type": "code",
      "source": [
        "%%writefile amlscore.py\n",
        "import json\n",
        "import numpy as np\n",
        "import os\n",
        "import pickle\n",
        "import joblib\n",
        "import pandas as pd\n",
        "from azureml.core.model import Model\n",
        "\n",
        "def init():\n",
        "    global model\n",
        "    model_path = Model.get_model_path(\"automl\")\n",
        "    model = joblib.load(model_path)\n",
        "\n",
        "def run(raw_data):\n",
        "    try:\n",
        "        data = json.loads(raw_data)['data']\n",
        "        data = pd.DataFrame.from_dict(data)\n",
        "        # make prediction\n",
        "        result = model.predict(data)\n",
        "        return result.tolist()\n",
        "    except Exception as ex:\n",
        "        error = str(ex)\n",
        "        return error"
      ],
      "outputs": [
        {
          "output_type": "stream",
          "name": "stdout",
          "text": "Overwriting amlscore.py\n"
        }
      ],
      "execution_count": 19,
      "metadata": {
        "jupyter": {
          "source_hidden": false,
          "outputs_hidden": false
        },
        "nteract": {
          "transient": {
            "deleting": false
          }
        }
      }
    },
    {
      "cell_type": "code",
      "source": [
        "from azureml.core.environment import Environment\n",
        "from azureml.core.model import InferenceConfig\n",
        "from azureml.core.webservice import AciWebservice, Webservice\n",
        "from azureml.core.model import Model\n",
        "from azureml.automl.core.shared import constants\n",
        "from azureml.core.conda_dependencies import CondaDependencies\n",
        "\n",
        "\n",
        "\n",
        "best_remote_run.download_file(constants.CONDA_ENV_FILE_PATH, \"deploy.yml\")\n",
        "deployenv = Environment.from_conda_specification(name=\"deployenv\", file_path=\"deploy.yml\")\n",
        "\n",
        "inference_config = InferenceConfig(entry_script='amlscore.py', environment=deployenv)\n",
        "\n",
        "aciconfig = AciWebservice.deploy_configuration(cpu_cores=2, memory_gb=1, description=\"heart-failure-model-final-one\")\n",
        "\n",
        "service = Model.deploy(ws, \"automl-capstone\", [model], inference_config, aciconfig)\n",
        "\n",
        "service.wait_for_deployment(True)"
      ],
      "outputs": [
        {
          "output_type": "stream",
          "name": "stdout",
          "text": "Tips: You can try get_logs(): https://aka.ms/debugimage#dockerlog or local deployment: https://aka.ms/debugimage#debug-locally to debug if deployment takes longer than 10 minutes.\nRunning\n2023-04-23 11:04:04+00:00 Creating Container Registry if not exists.\n2023-04-23 11:04:04+00:00 Registering the environment.\n2023-04-23 11:04:06+00:00 Use the existing image.\n2023-04-23 11:04:06+00:00 Generating deployment configuration.\n2023-04-23 11:04:06+00:00 Submitting deployment to compute.\n2023-04-23 11:04:13+00:00 Checking the status of deployment automl-capstone..\n2023-04-23 11:06:17+00:00 Checking the status of inference endpoint automl-capstone.\nSucceeded\nACI service creation operation finished, operation \"Succeeded\"\n"
        }
      ],
      "execution_count": 20,
      "metadata": {
        "jupyter": {
          "source_hidden": false,
          "outputs_hidden": false
        },
        "nteract": {
          "transient": {
            "deleting": false
          }
        },
        "gather": {
          "logged": 1682247978063
        }
      }
    },
    {
      "cell_type": "code",
      "source": [
        "print(service.get_logs())\n"
      ],
      "outputs": [
        {
          "output_type": "stream",
          "name": "stdout",
          "text": "/bin/bash: /azureml-envs/azureml_c9289db7d7cee531fa8170c6d853612d/lib/libtinfo.so.6: no version information available (required by /bin/bash)\n/bin/bash: /azureml-envs/azureml_c9289db7d7cee531fa8170c6d853612d/lib/libtinfo.so.6: no version information available (required by /bin/bash)\n/bin/bash: /azureml-envs/azureml_c9289db7d7cee531fa8170c6d853612d/lib/libtinfo.so.6: no version information available (required by /bin/bash)\n/bin/bash: /azureml-envs/azureml_c9289db7d7cee531fa8170c6d853612d/lib/libtinfo.so.6: no version information available (required by /bin/bash)\n2023-04-23T11:05:52,161103200+00:00 - iot-server/run \n2023-04-23T11:05:52,161126700+00:00 - rsyslog/run \n2023-04-23T11:05:52,167277900+00:00 - gunicorn/run \nbash: /azureml-envs/azureml_c9289db7d7cee531fa8170c6d853612d/lib/libtinfo.so.6: no version information available (required by bash)\n2023-04-23T11:05:52,173911300+00:00 | gunicorn/run | \n2023-04-23T11:05:52,179003700+00:00 | gunicorn/run | ###############################################\n2023-04-23T11:05:52,181128200+00:00 | gunicorn/run | AzureML Container Runtime Information\n2023-04-23T11:05:52,182723100+00:00 - nginx/run \n2023-04-23T11:05:52,184850400+00:00 | gunicorn/run | ###############################################\n2023-04-23T11:05:52,188410400+00:00 | gunicorn/run | \n2023-04-23T11:05:52,191785400+00:00 | gunicorn/run | \n2023-04-23T11:05:52,198798400+00:00 | gunicorn/run | AzureML image information: openmpi4.1.0-ubuntu20.04, Materializaton Build:20221101.v11\n2023-04-23T11:05:52,201141000+00:00 | gunicorn/run | \n2023-04-23T11:05:52,203932000+00:00 | gunicorn/run | \n2023-04-23T11:05:52,206584700+00:00 | gunicorn/run | PATH environment variable: /azureml-envs/azureml_c9289db7d7cee531fa8170c6d853612d/bin:/opt/miniconda/bin:/usr/local/sbin:/usr/local/bin:/usr/sbin:/usr/bin:/sbin:/bin\n2023-04-23T11:05:52,210270100+00:00 | gunicorn/run | PYTHONPATH environment variable: \n2023-04-23T11:05:52,212052400+00:00 | gunicorn/run | \n2023-04-23T11:05:52,213925300+00:00 | gunicorn/run | Pip Dependencies (before dynamic installation)\n\nEdgeHubConnectionString and IOTEDGE_IOTHUBHOSTNAME are not set. Exiting...\n/bin/bash: /azureml-envs/azureml_c9289db7d7cee531fa8170c6d853612d/lib/libtinfo.so.6: no version information available (required by /bin/bash)\n2023-04-23T11:05:52,478499800+00:00 - iot-server/finish 1 0\n2023-04-23T11:05:52,482991000+00:00 - Exit code 1 is normal. Not restarting iot-server.\nadal==1.2.7\napplicationinsights==0.11.10\nargcomplete==2.1.2\narviz @ file:///tmp/build/80754af9/arviz_1614019183254/work\nattrs==23.1.0\nazure-common==1.1.28\nazure-core==1.26.4\nazure-graphrbac==0.61.1\nazure-identity==1.12.0\nazure-mgmt-authorization==3.0.0\nazure-mgmt-containerregistry==10.1.0\nazure-mgmt-core==1.4.0\nazure-mgmt-keyvault==10.2.1\nazure-mgmt-resource==21.2.1\nazure-mgmt-storage==20.1.0\nazure-storage-blob==12.13.0\nazure-storage-queue==12.6.0\nazureml-automl-core==1.48.0\nazureml-automl-runtime==1.48.0.post2\nazureml-core==1.48.0\nazureml-dataprep==4.8.6\nazureml-dataprep-native==38.0.0\nazureml-dataprep-rslex==2.15.2\nazureml-dataset-runtime==1.48.0\nazureml-defaults==1.48.0\nazureml-inference-server-http==0.7.7\nazureml-interpret==1.48.0\nazureml-mlflow==1.48.0\nazureml-telemetry==1.48.0\nazureml-train-automl-client==1.48.0\nazureml-train-automl-runtime==1.48.0.post2\nazureml-train-core==1.48.0\nazureml-train-restclients-hyperdrive==1.48.0\nazureml-training-tabular==1.48.0\nbackports.tempfile==1.0\nbackports.weakref==1.0.post1\nbcrypt==4.0.1\nbokeh==2.4.3\nboto==2.49.0\nboto3==1.20.19\nbotocore==1.23.19\ncachetools==5.3.0\ncertifi @ file:///croot/certifi_1671487769961/work/certifi\ncffi==1.15.1\ncftime @ file:///tmp/build/80754af9/cftime_1638357901230/work\ncharset-normalizer==3.1.0\nclick==8.1.3\ncloudpickle==2.2.1\ncontextlib2==21.6.0\ncontourpy @ file:///opt/conda/conda-bld/contourpy_1663827406301/work\nconvertdate @ file:///tmp/build/80754af9/convertdate_1634070773133/work\ncryptography==38.0.4\ncycler @ file:///tmp/build/80754af9/cycler_1637851556182/work\nCython==0.29.17\ndask==2021.6.0\ndatabricks-cli==0.17.6\ndataclasses==0.6\ndill==0.3.6\ndistributed==2021.6.0\ndistro==1.8.0\ndocker==6.0.1\ndotnetcore2==3.1.23\nentrypoints==0.4\nephem @ file:///tmp/build/80754af9/ephem_1638942191467/work\nfbprophet @ file:///home/conda/feedstock_root/build_artifacts/fbprophet_1599365532360/work\nfire==0.5.0\nFlask==2.2.3\nFlask-Cors==3.0.10\nflatbuffers==23.3.3\nflit_core @ file:///opt/conda/conda-bld/flit-core_1644941570762/work/source/flit_core\nfonttools==4.25.0\nfsspec==2023.4.0\nfusepy==3.0.1\ngensim==3.8.3\ngitdb==4.0.10\nGitPython==3.1.31\ngoogle-api-core==2.11.0\ngoogle-auth==2.17.3\ngoogleapis-common-protos==1.59.0\ngunicorn==20.1.0\nholidays @ file:///home/conda/feedstock_root/build_artifacts/holidays_1595448845196/work\nhumanfriendly==10.0\nidna==3.4\nimportlib-metadata==5.2.0\nimportlib-resources==5.12.0\ninference-schema==1.5.1\ninterpret-community==0.27.0\ninterpret-core==0.2.7\nisodate==0.6.1\nitsdangerous==2.1.2\njeepney==0.8.0\nJinja2==3.1.2\njmespath==0.10.0\njoblib==0.14.1\njsonpickle==2.2.0\njsonschema==4.17.3\nkeras2onnx==1.6.0\nkiwisolver @ file:///croot/kiwisolver_1672387140495/work\nknack==0.10.1\nkorean-lunar-calendar @ file:///tmp/build/80754af9/korean_lunar_calendar_1634063020401/work\nlightgbm==3.2.1\nllvmlite==0.38.1\nlocket==1.0.0\nLunarCalendar @ file:///tmp/build/80754af9/lunarcalendar_1646383991234/work\nMarkupSafe==2.1.2\nmatplotlib @ file:///croot/matplotlib-suite_1670466153205/work\nml-wrappers==0.2.2\nmlflow-skinny==1.30.0\nmsal==1.22.0\nmsal-extensions==1.0.0\nmsgpack==1.0.5\nmsrest==0.7.1\nmsrestazure==0.6.4\nmunkres==1.1.4\nndg-httpsclient==0.5.1\nnetCDF4 @ file:///croot/netcdf4_1673455456943/work\nnimbusml==1.8.0\nnumba==0.55.2\nnumpy @ file:///home/conda/feedstock_root/build_artifacts/numpy_1649806303867/work\noauthlib==3.2.2\nonnx==1.12.0\nonnxconverter-common==1.6.0\nonnxmltools==1.4.1\nonnxruntime==1.11.1\nopencensus==0.11.2\nopencensus-context==0.1.3\nopencensus-ext-azure==1.1.9\npackaging==21.3\npandas==1.1.5\nparamiko==2.12.0\npartd==1.4.0\npathspec==0.11.1\npatsy==0.5.3\nPillow==9.3.0\npkginfo==1.9.6\npkgutil_resolve_name==1.3.10\npmdarima==1.7.1\nportalocker==2.7.0\nprotobuf==3.19.6\npsutil @ file:///home/conda/feedstock_root/build_artifacts/psutil_1667885878918/work\npyarrow==9.0.0\npyasn1==0.5.0\npyasn1-modules==0.3.0\npycparser==2.21\nPygments==2.15.1\nPyJWT==2.6.0\nPyMeeus @ file:///tmp/build/80754af9/pymeeus_1634069098549/work\nPyNaCl==1.5.0\npyOpenSSL==22.1.0\npyparsing @ file:///opt/conda/conda-bld/pyparsing_1661452539315/work\npyrsistent==0.19.3\nPySocks==1.7.1\npystan @ file:///tmp/build/80754af9/pystan_1613565232294/work\npython-dateutil @ file:///tmp/build/80754af9/python-dateutil_1626374649649/work\npytz @ file:///croot/pytz_1671697431263/work\nPyYAML==6.0\nrequests==2.28.2\nrequests-oauthlib==1.3.1\nrsa==4.9\ns3transfer==0.5.2\nscikit-learn==0.22.1\nscipy==1.5.3\nSecretStorage==3.3.3\nshap==0.39.0\nsix @ file:///tmp/build/80754af9/six_1644875935023/work\nskl2onnx==1.4.9\nsklearn-pandas==1.7.0\nslicer==0.0.7\nsmart-open==1.9.0\nsmmap==5.0.0\nsortedcontainers==2.4.0\nsqlparse==0.4.4\nstatsmodels==0.11.1\ntabulate==0.9.0\ntblib==1.7.0\ntermcolor==2.2.0\ntoolz==0.12.0\ntornado==6.3.1\ntqdm @ file:///opt/conda/conda-bld/tqdm_1664392687731/work\ntyping_extensions @ file:///croot/typing_extensions_1669924550328/work\nurllib3==1.26.15\nwebsocket-client==1.5.1\nWerkzeug==2.2.3\nwrapt==1.12.1\nxarray @ file:///opt/conda/conda-bld/xarray_1639166117697/work\nxgboost==1.3.3\nzict==3.0.0\nzipp==3.15.0\n\n2023-04-23T11:05:53,494238800+00:00 | gunicorn/run | \n2023-04-23T11:05:53,497457200+00:00 | gunicorn/run | ###############################################\n2023-04-23T11:05:53,501516400+00:00 | gunicorn/run | AzureML Inference Server\n2023-04-23T11:05:53,503702400+00:00 | gunicorn/run | ###############################################\n2023-04-23T11:05:53,505492300+00:00 | gunicorn/run | \n2023-04-23T11:05:55,382754870+00:00 | gunicorn/run | Starting AzureML Inference Server HTTP.\n\nAzure ML Inferencing HTTP server v0.7.7\n\n\nServer Settings\n---------------\nEntry Script Name: /var/azureml-app/amlscore.py\nModel Directory: /var/azureml-app/azureml-models/automl/2\nWorker Count: 1\nWorker Timeout (seconds): 300\nServer Port: 31311\nApplication Insights Enabled: false\nApplication Insights Key: None\nInferencing HTTP server version: azmlinfsrv/0.7.7\nCORS for the specified origins: None\n\n\nServer Routes\n---------------\nLiveness Probe: GET   127.0.0.1:31311/\nScore:          POST  127.0.0.1:31311/score\n\nStarting gunicorn 20.1.0\nListening at: http://0.0.0.0:31311 (81)\nUsing worker: sync\nBooting worker with pid: 134\nInitializing logger\n2023-04-23 11:05:56,326 | root | INFO | Starting up app insights client\nlogging socket was found. logging is available.\nlogging socket was found. logging is available.\n2023-04-23 11:05:56,326 | root | INFO | Starting up app insight hooks\n2023-04-23 11:05:58,955 | root | INFO | Found user script at /var/azureml-app/amlscore.py\n2023-04-23 11:05:58,956 | root | INFO | run() is not decorated. Server will invoke it with the input in JSON string.\n2023-04-23 11:05:58,956 | root | INFO | Invoking user's init function\ngenerated new fontManager\nImporting plotly failed. Interactive plots will not work.\n2023-04-23 11:06:03,647 | root | INFO | Users's init has completed successfully\n2023-04-23 11:06:03,651 | root | INFO | Swaggers are prepared for the following versions: [2, 3].\n2023-04-23 11:06:03,651 | root | INFO | Scoring timeout is found from os.environ: 60000 ms\n2023-04-23 11:06:03,652 | root | INFO | AML_FLASK_ONE_COMPATIBILITY is set. Patched Flask to ensure compatibility with Flask 1.\n2023-04-23 11:06:17,048 | root | INFO | 200\n127.0.0.1 - - [23/Apr/2023:11:06:17 +0000] \"GET /swagger.json HTTP/1.0\" 200 2263 \"-\" \"Go-http-client/1.1\"\n2023-04-23 11:06:18,033 | root | INFO | 200\n127.0.0.1 - - [23/Apr/2023:11:06:18 +0000] \"GET /swagger.json HTTP/1.0\" 200 2263 \"-\" \"Go-http-client/1.1\"\n\n"
        }
      ],
      "execution_count": 21,
      "metadata": {
        "jupyter": {
          "source_hidden": false,
          "outputs_hidden": false
        },
        "nteract": {
          "transient": {
            "deleting": false
          }
        },
        "gather": {
          "logged": 1682247986292
        }
      }
    },
    {
      "cell_type": "code",
      "source": [
        "scoring_uri = service.scoring_uri\n",
        "\n",
        "print(f'\\nservice state: {service.state}\\n')\n",
        "print(f'scoring URI: \\n{service.scoring_uri}\\n')\n",
        "print(f'swagger URI: \\n{service.swagger_uri}\\n')\n",
        "\n",
        "print(service.scoring_uri)\n",
        "print(service.swagger_uri)"
      ],
      "outputs": [
        {
          "output_type": "stream",
          "name": "stdout",
          "text": "\nservice state: Healthy\n\nscoring URI: \nhttp://b1940299-8471-4fb7-a4d9-eb8a56e60514.germanywestcentral.azurecontainer.io/score\n\nswagger URI: \nhttp://b1940299-8471-4fb7-a4d9-eb8a56e60514.germanywestcentral.azurecontainer.io/swagger.json\n\nhttp://b1940299-8471-4fb7-a4d9-eb8a56e60514.germanywestcentral.azurecontainer.io/score\nhttp://b1940299-8471-4fb7-a4d9-eb8a56e60514.germanywestcentral.azurecontainer.io/swagger.json\n"
        }
      ],
      "execution_count": 22,
      "metadata": {
        "jupyter": {
          "source_hidden": false,
          "outputs_hidden": false
        },
        "nteract": {
          "transient": {
            "deleting": false
          }
        },
        "gather": {
          "logged": 1682247993351
        }
      }
    },
    {
      "cell_type": "code",
      "source": [
        "import requests\n",
        "import json\n",
        "\n",
        "data={\"data\":\n",
        "  [{'age': 81.0,\n",
        "  'anaemia': 0,\n",
        "  'creatinine_phosphokinase': 781,\n",
        "  'diabetes': 0,\n",
        "  'ejection_fraction': 45,\n",
        "  'high_blood_pressure': 1,\n",
        "  'platelets': 218000,\n",
        "  'serum_creatinine': 2.5,\n",
        "  'serum_sodium': 127,\n",
        "  'sex': 0,\n",
        "  'smoking': 0,\n",
        "  'time': 2}]\n",
        "  }\n",
        "\n",
        "input_data=json.dumps(data)\n",
        "\n",
        "with open(\"data.json\",\"w\") as file:\n",
        "    file.write(input_data)\n",
        "\n",
        "headers={\"Content-Type\":\"application/json\"}\n",
        "\n",
        "result=requests.post(scoring_uri, input_data, headers=headers)\n",
        "print(\"The output is: \",result.json())"
      ],
      "outputs": [
        {
          "output_type": "stream",
          "name": "stdout",
          "text": "The output is:  [1]\n"
        }
      ],
      "execution_count": 23,
      "metadata": {
        "jupyter": {
          "source_hidden": false,
          "outputs_hidden": false
        },
        "nteract": {
          "transient": {
            "deleting": false
          }
        },
        "gather": {
          "logged": 1682248041983
        }
      }
    },
    {
      "cell_type": "code",
      "source": [
        "result.status_code\n"
      ],
      "outputs": [
        {
          "output_type": "execute_result",
          "execution_count": 24,
          "data": {
            "text/plain": "200"
          },
          "metadata": {}
        }
      ],
      "execution_count": 24,
      "metadata": {
        "jupyter": {
          "source_hidden": false,
          "outputs_hidden": false
        },
        "nteract": {
          "transient": {
            "deleting": false
          }
        },
        "gather": {
          "logged": 1682248047757
        }
      }
    },
    {
      "cell_type": "code",
      "source": [
        "#logs of the webservice\n",
        "logs=service.get_logs()\n",
        "print(logs)"
      ],
      "outputs": [
        {
          "output_type": "stream",
          "name": "stdout",
          "text": "/bin/bash: /azureml-envs/azureml_c9289db7d7cee531fa8170c6d853612d/lib/libtinfo.so.6: no version information available (required by /bin/bash)\n/bin/bash: /azureml-envs/azureml_c9289db7d7cee531fa8170c6d853612d/lib/libtinfo.so.6: no version information available (required by /bin/bash)\n/bin/bash: /azureml-envs/azureml_c9289db7d7cee531fa8170c6d853612d/lib/libtinfo.so.6: no version information available (required by /bin/bash)\n/bin/bash: /azureml-envs/azureml_c9289db7d7cee531fa8170c6d853612d/lib/libtinfo.so.6: no version information available (required by /bin/bash)\n2023-04-23T11:05:52,161103200+00:00 - iot-server/run \n2023-04-23T11:05:52,161126700+00:00 - rsyslog/run \n2023-04-23T11:05:52,167277900+00:00 - gunicorn/run \nbash: /azureml-envs/azureml_c9289db7d7cee531fa8170c6d853612d/lib/libtinfo.so.6: no version information available (required by bash)\n2023-04-23T11:05:52,173911300+00:00 | gunicorn/run | \n2023-04-23T11:05:52,179003700+00:00 | gunicorn/run | ###############################################\n2023-04-23T11:05:52,181128200+00:00 | gunicorn/run | AzureML Container Runtime Information\n2023-04-23T11:05:52,182723100+00:00 - nginx/run \n2023-04-23T11:05:52,184850400+00:00 | gunicorn/run | ###############################################\n2023-04-23T11:05:52,188410400+00:00 | gunicorn/run | \n2023-04-23T11:05:52,191785400+00:00 | gunicorn/run | \n2023-04-23T11:05:52,198798400+00:00 | gunicorn/run | AzureML image information: openmpi4.1.0-ubuntu20.04, Materializaton Build:20221101.v11\n2023-04-23T11:05:52,201141000+00:00 | gunicorn/run | \n2023-04-23T11:05:52,203932000+00:00 | gunicorn/run | \n2023-04-23T11:05:52,206584700+00:00 | gunicorn/run | PATH environment variable: /azureml-envs/azureml_c9289db7d7cee531fa8170c6d853612d/bin:/opt/miniconda/bin:/usr/local/sbin:/usr/local/bin:/usr/sbin:/usr/bin:/sbin:/bin\n2023-04-23T11:05:52,210270100+00:00 | gunicorn/run | PYTHONPATH environment variable: \n2023-04-23T11:05:52,212052400+00:00 | gunicorn/run | \n2023-04-23T11:05:52,213925300+00:00 | gunicorn/run | Pip Dependencies (before dynamic installation)\n\nEdgeHubConnectionString and IOTEDGE_IOTHUBHOSTNAME are not set. Exiting...\n/bin/bash: /azureml-envs/azureml_c9289db7d7cee531fa8170c6d853612d/lib/libtinfo.so.6: no version information available (required by /bin/bash)\n2023-04-23T11:05:52,478499800+00:00 - iot-server/finish 1 0\n2023-04-23T11:05:52,482991000+00:00 - Exit code 1 is normal. Not restarting iot-server.\nadal==1.2.7\napplicationinsights==0.11.10\nargcomplete==2.1.2\narviz @ file:///tmp/build/80754af9/arviz_1614019183254/work\nattrs==23.1.0\nazure-common==1.1.28\nazure-core==1.26.4\nazure-graphrbac==0.61.1\nazure-identity==1.12.0\nazure-mgmt-authorization==3.0.0\nazure-mgmt-containerregistry==10.1.0\nazure-mgmt-core==1.4.0\nazure-mgmt-keyvault==10.2.1\nazure-mgmt-resource==21.2.1\nazure-mgmt-storage==20.1.0\nazure-storage-blob==12.13.0\nazure-storage-queue==12.6.0\nazureml-automl-core==1.48.0\nazureml-automl-runtime==1.48.0.post2\nazureml-core==1.48.0\nazureml-dataprep==4.8.6\nazureml-dataprep-native==38.0.0\nazureml-dataprep-rslex==2.15.2\nazureml-dataset-runtime==1.48.0\nazureml-defaults==1.48.0\nazureml-inference-server-http==0.7.7\nazureml-interpret==1.48.0\nazureml-mlflow==1.48.0\nazureml-telemetry==1.48.0\nazureml-train-automl-client==1.48.0\nazureml-train-automl-runtime==1.48.0.post2\nazureml-train-core==1.48.0\nazureml-train-restclients-hyperdrive==1.48.0\nazureml-training-tabular==1.48.0\nbackports.tempfile==1.0\nbackports.weakref==1.0.post1\nbcrypt==4.0.1\nbokeh==2.4.3\nboto==2.49.0\nboto3==1.20.19\nbotocore==1.23.19\ncachetools==5.3.0\ncertifi @ file:///croot/certifi_1671487769961/work/certifi\ncffi==1.15.1\ncftime @ file:///tmp/build/80754af9/cftime_1638357901230/work\ncharset-normalizer==3.1.0\nclick==8.1.3\ncloudpickle==2.2.1\ncontextlib2==21.6.0\ncontourpy @ file:///opt/conda/conda-bld/contourpy_1663827406301/work\nconvertdate @ file:///tmp/build/80754af9/convertdate_1634070773133/work\ncryptography==38.0.4\ncycler @ file:///tmp/build/80754af9/cycler_1637851556182/work\nCython==0.29.17\ndask==2021.6.0\ndatabricks-cli==0.17.6\ndataclasses==0.6\ndill==0.3.6\ndistributed==2021.6.0\ndistro==1.8.0\ndocker==6.0.1\ndotnetcore2==3.1.23\nentrypoints==0.4\nephem @ file:///tmp/build/80754af9/ephem_1638942191467/work\nfbprophet @ file:///home/conda/feedstock_root/build_artifacts/fbprophet_1599365532360/work\nfire==0.5.0\nFlask==2.2.3\nFlask-Cors==3.0.10\nflatbuffers==23.3.3\nflit_core @ file:///opt/conda/conda-bld/flit-core_1644941570762/work/source/flit_core\nfonttools==4.25.0\nfsspec==2023.4.0\nfusepy==3.0.1\ngensim==3.8.3\ngitdb==4.0.10\nGitPython==3.1.31\ngoogle-api-core==2.11.0\ngoogle-auth==2.17.3\ngoogleapis-common-protos==1.59.0\ngunicorn==20.1.0\nholidays @ file:///home/conda/feedstock_root/build_artifacts/holidays_1595448845196/work\nhumanfriendly==10.0\nidna==3.4\nimportlib-metadata==5.2.0\nimportlib-resources==5.12.0\ninference-schema==1.5.1\ninterpret-community==0.27.0\ninterpret-core==0.2.7\nisodate==0.6.1\nitsdangerous==2.1.2\njeepney==0.8.0\nJinja2==3.1.2\njmespath==0.10.0\njoblib==0.14.1\njsonpickle==2.2.0\njsonschema==4.17.3\nkeras2onnx==1.6.0\nkiwisolver @ file:///croot/kiwisolver_1672387140495/work\nknack==0.10.1\nkorean-lunar-calendar @ file:///tmp/build/80754af9/korean_lunar_calendar_1634063020401/work\nlightgbm==3.2.1\nllvmlite==0.38.1\nlocket==1.0.0\nLunarCalendar @ file:///tmp/build/80754af9/lunarcalendar_1646383991234/work\nMarkupSafe==2.1.2\nmatplotlib @ file:///croot/matplotlib-suite_1670466153205/work\nml-wrappers==0.2.2\nmlflow-skinny==1.30.0\nmsal==1.22.0\nmsal-extensions==1.0.0\nmsgpack==1.0.5\nmsrest==0.7.1\nmsrestazure==0.6.4\nmunkres==1.1.4\nndg-httpsclient==0.5.1\nnetCDF4 @ file:///croot/netcdf4_1673455456943/work\nnimbusml==1.8.0\nnumba==0.55.2\nnumpy @ file:///home/conda/feedstock_root/build_artifacts/numpy_1649806303867/work\noauthlib==3.2.2\nonnx==1.12.0\nonnxconverter-common==1.6.0\nonnxmltools==1.4.1\nonnxruntime==1.11.1\nopencensus==0.11.2\nopencensus-context==0.1.3\nopencensus-ext-azure==1.1.9\npackaging==21.3\npandas==1.1.5\nparamiko==2.12.0\npartd==1.4.0\npathspec==0.11.1\npatsy==0.5.3\nPillow==9.3.0\npkginfo==1.9.6\npkgutil_resolve_name==1.3.10\npmdarima==1.7.1\nportalocker==2.7.0\nprotobuf==3.19.6\npsutil @ file:///home/conda/feedstock_root/build_artifacts/psutil_1667885878918/work\npyarrow==9.0.0\npyasn1==0.5.0\npyasn1-modules==0.3.0\npycparser==2.21\nPygments==2.15.1\nPyJWT==2.6.0\nPyMeeus @ file:///tmp/build/80754af9/pymeeus_1634069098549/work\nPyNaCl==1.5.0\npyOpenSSL==22.1.0\npyparsing @ file:///opt/conda/conda-bld/pyparsing_1661452539315/work\npyrsistent==0.19.3\nPySocks==1.7.1\npystan @ file:///tmp/build/80754af9/pystan_1613565232294/work\npython-dateutil @ file:///tmp/build/80754af9/python-dateutil_1626374649649/work\npytz @ file:///croot/pytz_1671697431263/work\nPyYAML==6.0\nrequests==2.28.2\nrequests-oauthlib==1.3.1\nrsa==4.9\ns3transfer==0.5.2\nscikit-learn==0.22.1\nscipy==1.5.3\nSecretStorage==3.3.3\nshap==0.39.0\nsix @ file:///tmp/build/80754af9/six_1644875935023/work\nskl2onnx==1.4.9\nsklearn-pandas==1.7.0\nslicer==0.0.7\nsmart-open==1.9.0\nsmmap==5.0.0\nsortedcontainers==2.4.0\nsqlparse==0.4.4\nstatsmodels==0.11.1\ntabulate==0.9.0\ntblib==1.7.0\ntermcolor==2.2.0\ntoolz==0.12.0\ntornado==6.3.1\ntqdm @ file:///opt/conda/conda-bld/tqdm_1664392687731/work\ntyping_extensions @ file:///croot/typing_extensions_1669924550328/work\nurllib3==1.26.15\nwebsocket-client==1.5.1\nWerkzeug==2.2.3\nwrapt==1.12.1\nxarray @ file:///opt/conda/conda-bld/xarray_1639166117697/work\nxgboost==1.3.3\nzict==3.0.0\nzipp==3.15.0\n\n2023-04-23T11:05:53,494238800+00:00 | gunicorn/run | \n2023-04-23T11:05:53,497457200+00:00 | gunicorn/run | ###############################################\n2023-04-23T11:05:53,501516400+00:00 | gunicorn/run | AzureML Inference Server\n2023-04-23T11:05:53,503702400+00:00 | gunicorn/run | ###############################################\n2023-04-23T11:05:53,505492300+00:00 | gunicorn/run | \n2023-04-23T11:05:55,382754870+00:00 | gunicorn/run | Starting AzureML Inference Server HTTP.\n\nAzure ML Inferencing HTTP server v0.7.7\n\n\nServer Settings\n---------------\nEntry Script Name: /var/azureml-app/amlscore.py\nModel Directory: /var/azureml-app/azureml-models/automl/2\nWorker Count: 1\nWorker Timeout (seconds): 300\nServer Port: 31311\nApplication Insights Enabled: false\nApplication Insights Key: None\nInferencing HTTP server version: azmlinfsrv/0.7.7\nCORS for the specified origins: None\n\n\nServer Routes\n---------------\nLiveness Probe: GET   127.0.0.1:31311/\nScore:          POST  127.0.0.1:31311/score\n\nStarting gunicorn 20.1.0\nListening at: http://0.0.0.0:31311 (81)\nUsing worker: sync\nBooting worker with pid: 134\nInitializing logger\n2023-04-23 11:05:56,326 | root | INFO | Starting up app insights client\nlogging socket was found. logging is available.\nlogging socket was found. logging is available.\n2023-04-23 11:05:56,326 | root | INFO | Starting up app insight hooks\n2023-04-23 11:05:58,955 | root | INFO | Found user script at /var/azureml-app/amlscore.py\n2023-04-23 11:05:58,956 | root | INFO | run() is not decorated. Server will invoke it with the input in JSON string.\n2023-04-23 11:05:58,956 | root | INFO | Invoking user's init function\ngenerated new fontManager\nImporting plotly failed. Interactive plots will not work.\n2023-04-23 11:06:03,647 | root | INFO | Users's init has completed successfully\n2023-04-23 11:06:03,651 | root | INFO | Swaggers are prepared for the following versions: [2, 3].\n2023-04-23 11:06:03,651 | root | INFO | Scoring timeout is found from os.environ: 60000 ms\n2023-04-23 11:06:03,652 | root | INFO | AML_FLASK_ONE_COMPATIBILITY is set. Patched Flask to ensure compatibility with Flask 1.\n2023-04-23 11:06:17,048 | root | INFO | 200\n127.0.0.1 - - [23/Apr/2023:11:06:17 +0000] \"GET /swagger.json HTTP/1.0\" 200 2263 \"-\" \"Go-http-client/1.1\"\n2023-04-23 11:06:18,033 | root | INFO | 200\n127.0.0.1 - - [23/Apr/2023:11:06:18 +0000] \"GET /swagger.json HTTP/1.0\" 200 2263 \"-\" \"Go-http-client/1.1\"\n2023-04-23 11:07:21,895 | root | INFO | 200\n127.0.0.1 - - [23/Apr/2023:11:07:21 +0000] \"POST /score HTTP/1.0\" 200 3 \"-\" \"python-requests/2.28.1\"\n\n"
        }
      ],
      "execution_count": 25,
      "metadata": {
        "jupyter": {
          "source_hidden": false,
          "outputs_hidden": false
        },
        "nteract": {
          "transient": {
            "deleting": false
          }
        },
        "gather": {
          "logged": 1682248051703
        }
      }
    },
    {
      "cell_type": "markdown",
      "source": [],
      "metadata": {}
    }
  ],
  "metadata": {
    "kernel_info": {
      "name": "python38-azureml"
    },
    "kernelspec": {
      "name": "python38-azureml",
      "language": "python",
      "display_name": "Python 3.8 - AzureML"
    },
    "language_info": {
      "name": "python",
      "version": "3.8.10",
      "mimetype": "text/x-python",
      "codemirror_mode": {
        "name": "ipython",
        "version": 3
      },
      "pygments_lexer": "ipython3",
      "nbconvert_exporter": "python",
      "file_extension": ".py"
    },
    "nteract": {
      "version": "nteract-front-end@1.0.0"
    },
    "microsoft": {
      "host": {
        "AzureML": {
          "notebookHasBeenCompleted": true
        }
      },
      "ms_spell_check": {
        "ms_spell_check_language": "en"
      }
    }
  },
  "nbformat": 4,
  "nbformat_minor": 2
}